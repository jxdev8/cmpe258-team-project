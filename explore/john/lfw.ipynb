{
 "cells": [
  {
   "cell_type": "code",
   "execution_count": 2,
   "id": "e7b07824",
   "metadata": {},
   "outputs": [],
   "source": [
    "import tensorflow as tf"
   ]
  },
  {
   "cell_type": "code",
   "execution_count": 3,
   "id": "fedfa369",
   "metadata": {},
   "outputs": [
    {
     "name": "stdout",
     "output_type": "stream",
     "text": [
      "2.9.1\n"
     ]
    }
   ],
   "source": [
    "print(tf.__version__)"
   ]
  },
  {
   "cell_type": "code",
   "execution_count": 4,
   "id": "644a0438",
   "metadata": {},
   "outputs": [],
   "source": [
    "import os\n",
    "import cv2\n",
    "import matplotlib.pyplot as plt\n",
    "import pandas as pd\n",
    "import numpy as np"
   ]
  },
  {
   "cell_type": "code",
   "execution_count": 5,
   "id": "6f8a1529",
   "metadata": {},
   "outputs": [],
   "source": [
    "from collections import OrderedDict"
   ]
  },
  {
   "cell_type": "code",
   "execution_count": 6,
   "id": "52d86e91",
   "metadata": {},
   "outputs": [],
   "source": [
    "# for visualization\n",
    "from PIL import Image"
   ]
  },
  {
   "cell_type": "code",
   "execution_count": 7,
   "id": "46694264",
   "metadata": {},
   "outputs": [],
   "source": [
    "# for identify faces\n",
    "from mtcnn.mtcnn import MTCNN"
   ]
  },
  {
   "cell_type": "code",
   "execution_count": 8,
   "id": "d0594540",
   "metadata": {},
   "outputs": [],
   "source": [
    "# for bounding boxes\n",
    "import matplotlib.patches as patches"
   ]
  },
  {
   "cell_type": "code",
   "execution_count": 9,
   "id": "b4fd3970",
   "metadata": {},
   "outputs": [],
   "source": [
    "# CNN\n",
    "import keras\n",
    "from sklearn.model_selection import train_test_split"
   ]
  },
  {
   "cell_type": "code",
   "execution_count": 10,
   "id": "2d33acd1",
   "metadata": {},
   "outputs": [],
   "source": [
    "# for moving files\n",
    "import shutil\n",
    "from shutil import unpack_archive\n",
    "from subprocess import check_output"
   ]
  },
  {
   "cell_type": "markdown",
   "id": "d60998d5",
   "metadata": {},
   "source": [
    "## Data Intake"
   ]
  },
  {
   "cell_type": "code",
   "execution_count": 11,
   "id": "76edc2d9",
   "metadata": {},
   "outputs": [],
   "source": [
    "dataset_path = \"../../data/Labelled-Faces-in-the-Wild-LFW/\""
   ]
  },
  {
   "cell_type": "code",
   "execution_count": 12,
   "id": "3c4bade3",
   "metadata": {},
   "outputs": [
    {
     "data": {
      "text/html": [
       "<div>\n",
       "<style scoped>\n",
       "    .dataframe tbody tr th:only-of-type {\n",
       "        vertical-align: middle;\n",
       "    }\n",
       "\n",
       "    .dataframe tbody tr th {\n",
       "        vertical-align: top;\n",
       "    }\n",
       "\n",
       "    .dataframe thead th {\n",
       "        text-align: right;\n",
       "    }\n",
       "</style>\n",
       "<table border=\"1\" class=\"dataframe\">\n",
       "  <thead>\n",
       "    <tr style=\"text-align: right;\">\n",
       "      <th></th>\n",
       "      <th>name</th>\n",
       "      <th>images</th>\n",
       "    </tr>\n",
       "  </thead>\n",
       "  <tbody>\n",
       "    <tr>\n",
       "      <th>0</th>\n",
       "      <td>AJ_Cook</td>\n",
       "      <td>1</td>\n",
       "    </tr>\n",
       "    <tr>\n",
       "      <th>1</th>\n",
       "      <td>AJ_Lamas</td>\n",
       "      <td>1</td>\n",
       "    </tr>\n",
       "    <tr>\n",
       "      <th>2</th>\n",
       "      <td>Aaron_Eckhart</td>\n",
       "      <td>1</td>\n",
       "    </tr>\n",
       "    <tr>\n",
       "      <th>3</th>\n",
       "      <td>Aaron_Guiel</td>\n",
       "      <td>1</td>\n",
       "    </tr>\n",
       "    <tr>\n",
       "      <th>4</th>\n",
       "      <td>Aaron_Patterson</td>\n",
       "      <td>1</td>\n",
       "    </tr>\n",
       "    <tr>\n",
       "      <th>...</th>\n",
       "      <td>...</td>\n",
       "      <td>...</td>\n",
       "    </tr>\n",
       "    <tr>\n",
       "      <th>5744</th>\n",
       "      <td>Zorica_Radovic</td>\n",
       "      <td>1</td>\n",
       "    </tr>\n",
       "    <tr>\n",
       "      <th>5745</th>\n",
       "      <td>Zulfiqar_Ahmed</td>\n",
       "      <td>1</td>\n",
       "    </tr>\n",
       "    <tr>\n",
       "      <th>5746</th>\n",
       "      <td>Zumrati_Juma</td>\n",
       "      <td>1</td>\n",
       "    </tr>\n",
       "    <tr>\n",
       "      <th>5747</th>\n",
       "      <td>Zurab_Tsereteli</td>\n",
       "      <td>1</td>\n",
       "    </tr>\n",
       "    <tr>\n",
       "      <th>5748</th>\n",
       "      <td>Zydrunas_Ilgauskas</td>\n",
       "      <td>1</td>\n",
       "    </tr>\n",
       "  </tbody>\n",
       "</table>\n",
       "<p>5749 rows × 2 columns</p>\n",
       "</div>"
      ],
      "text/plain": [
       "                    name  images\n",
       "0                AJ_Cook       1\n",
       "1               AJ_Lamas       1\n",
       "2          Aaron_Eckhart       1\n",
       "3            Aaron_Guiel       1\n",
       "4        Aaron_Patterson       1\n",
       "...                  ...     ...\n",
       "5744      Zorica_Radovic       1\n",
       "5745      Zulfiqar_Ahmed       1\n",
       "5746        Zumrati_Juma       1\n",
       "5747     Zurab_Tsereteli       1\n",
       "5748  Zydrunas_Ilgauskas       1\n",
       "\n",
       "[5749 rows x 2 columns]"
      ]
     },
     "execution_count": 12,
     "metadata": {},
     "output_type": "execute_result"
    }
   ],
   "source": [
    "lfw_allnames = pd.read_csv(dataset_path + \"lfw_allnames.csv\")\n",
    "lfw_allnames"
   ]
  },
  {
   "cell_type": "code",
   "execution_count": 13,
   "id": "9492b7cb",
   "metadata": {},
   "outputs": [
    {
     "data": {
      "text/html": [
       "<div>\n",
       "<style scoped>\n",
       "    .dataframe tbody tr th:only-of-type {\n",
       "        vertical-align: middle;\n",
       "    }\n",
       "\n",
       "    .dataframe tbody tr th {\n",
       "        vertical-align: top;\n",
       "    }\n",
       "\n",
       "    .dataframe thead th {\n",
       "        text-align: right;\n",
       "    }\n",
       "</style>\n",
       "<table border=\"1\" class=\"dataframe\">\n",
       "  <thead>\n",
       "    <tr style=\"text-align: right;\">\n",
       "      <th></th>\n",
       "      <th>name</th>\n",
       "      <th>images</th>\n",
       "    </tr>\n",
       "  </thead>\n",
       "  <tbody>\n",
       "    <tr>\n",
       "      <th>1055</th>\n",
       "      <td>Columba_Bush</td>\n",
       "      <td>1</td>\n",
       "    </tr>\n",
       "    <tr>\n",
       "      <th>1854</th>\n",
       "      <td>George_HW_Bush</td>\n",
       "      <td>13</td>\n",
       "    </tr>\n",
       "    <tr>\n",
       "      <th>1862</th>\n",
       "      <td>George_P_Bush</td>\n",
       "      <td>2</td>\n",
       "    </tr>\n",
       "    <tr>\n",
       "      <th>1871</th>\n",
       "      <td>George_W_Bush</td>\n",
       "      <td>530</td>\n",
       "    </tr>\n",
       "    <tr>\n",
       "      <th>2477</th>\n",
       "      <td>Jeb_Bush</td>\n",
       "      <td>12</td>\n",
       "    </tr>\n",
       "    <tr>\n",
       "      <th>3202</th>\n",
       "      <td>Laura_Bush</td>\n",
       "      <td>41</td>\n",
       "    </tr>\n",
       "    <tr>\n",
       "      <th>4108</th>\n",
       "      <td>Noelle_Bush</td>\n",
       "      <td>4</td>\n",
       "    </tr>\n",
       "  </tbody>\n",
       "</table>\n",
       "</div>"
      ],
      "text/plain": [
       "                name  images\n",
       "1055    Columba_Bush       1\n",
       "1854  George_HW_Bush      13\n",
       "1862   George_P_Bush       2\n",
       "1871   George_W_Bush     530\n",
       "2477        Jeb_Bush      12\n",
       "3202      Laura_Bush      41\n",
       "4108     Noelle_Bush       4"
      ]
     },
     "execution_count": 13,
     "metadata": {},
     "output_type": "execute_result"
    }
   ],
   "source": [
    "lfw_allnames.loc[lfw_allnames['name'].str.contains(\"Bush\")]"
   ]
  },
  {
   "cell_type": "code",
   "execution_count": 14,
   "id": "9cb02b75",
   "metadata": {},
   "outputs": [
    {
     "data": {
      "text/html": [
       "<div>\n",
       "<style scoped>\n",
       "    .dataframe tbody tr th:only-of-type {\n",
       "        vertical-align: middle;\n",
       "    }\n",
       "\n",
       "    .dataframe tbody tr th {\n",
       "        vertical-align: top;\n",
       "    }\n",
       "\n",
       "    .dataframe thead th {\n",
       "        text-align: right;\n",
       "    }\n",
       "</style>\n",
       "<table border=\"1\" class=\"dataframe\">\n",
       "  <thead>\n",
       "    <tr style=\"text-align: right;\">\n",
       "      <th></th>\n",
       "      <th>name</th>\n",
       "      <th>images</th>\n",
       "    </tr>\n",
       "  </thead>\n",
       "  <tbody>\n",
       "    <tr>\n",
       "      <th>1055</th>\n",
       "      <td>Columba_Bush</td>\n",
       "      <td>1</td>\n",
       "    </tr>\n",
       "  </tbody>\n",
       "</table>\n",
       "</div>"
      ],
      "text/plain": [
       "              name  images\n",
       "1055  Columba_Bush       1"
      ]
     },
     "execution_count": 14,
     "metadata": {},
     "output_type": "execute_result"
    }
   ],
   "source": [
    "lfw_allnames.loc[lfw_allnames['name'] == \"Columba_Bush\"]"
   ]
  },
  {
   "cell_type": "code",
   "execution_count": 15,
   "id": "dd0e2cfa",
   "metadata": {},
   "outputs": [
    {
     "data": {
      "text/html": [
       "<div>\n",
       "<style scoped>\n",
       "    .dataframe tbody tr th:only-of-type {\n",
       "        vertical-align: middle;\n",
       "    }\n",
       "\n",
       "    .dataframe tbody tr th {\n",
       "        vertical-align: top;\n",
       "    }\n",
       "\n",
       "    .dataframe thead th {\n",
       "        text-align: right;\n",
       "    }\n",
       "</style>\n",
       "<table border=\"1\" class=\"dataframe\">\n",
       "  <thead>\n",
       "    <tr style=\"text-align: right;\">\n",
       "      <th></th>\n",
       "      <th>name</th>\n",
       "      <th>images</th>\n",
       "    </tr>\n",
       "  </thead>\n",
       "  <tbody>\n",
       "    <tr>\n",
       "      <th>23</th>\n",
       "      <td>Abdullatif_Sener</td>\n",
       "      <td>2</td>\n",
       "    </tr>\n",
       "  </tbody>\n",
       "</table>\n",
       "</div>"
      ],
      "text/plain": [
       "                name  images\n",
       "23  Abdullatif_Sener       2"
      ]
     },
     "execution_count": 15,
     "metadata": {},
     "output_type": "execute_result"
    }
   ],
   "source": [
    "lfw_allnames.loc[lfw_allnames['name'] == \"Abdullatif_Sener\"]"
   ]
  },
  {
   "cell_type": "code",
   "execution_count": 16,
   "id": "724b47ae",
   "metadata": {},
   "outputs": [
    {
     "data": {
      "text/html": [
       "<div>\n",
       "<style scoped>\n",
       "    .dataframe tbody tr th:only-of-type {\n",
       "        vertical-align: middle;\n",
       "    }\n",
       "\n",
       "    .dataframe tbody tr th {\n",
       "        vertical-align: top;\n",
       "    }\n",
       "\n",
       "    .dataframe thead th {\n",
       "        text-align: right;\n",
       "    }\n",
       "</style>\n",
       "<table border=\"1\" class=\"dataframe\">\n",
       "  <thead>\n",
       "    <tr style=\"text-align: right;\">\n",
       "      <th></th>\n",
       "      <th>name</th>\n",
       "      <th>imagenum1</th>\n",
       "      <th>imagenum2</th>\n",
       "    </tr>\n",
       "  </thead>\n",
       "  <tbody>\n",
       "    <tr>\n",
       "      <th>0</th>\n",
       "      <td>Abdullah_Gul</td>\n",
       "      <td>13</td>\n",
       "      <td>14</td>\n",
       "    </tr>\n",
       "    <tr>\n",
       "      <th>1</th>\n",
       "      <td>Abdullah_Gul</td>\n",
       "      <td>13</td>\n",
       "      <td>16</td>\n",
       "    </tr>\n",
       "    <tr>\n",
       "      <th>2</th>\n",
       "      <td>Abdullatif_Sener</td>\n",
       "      <td>1</td>\n",
       "      <td>2</td>\n",
       "    </tr>\n",
       "    <tr>\n",
       "      <th>3</th>\n",
       "      <td>Adel_Al-Jubeir</td>\n",
       "      <td>1</td>\n",
       "      <td>3</td>\n",
       "    </tr>\n",
       "    <tr>\n",
       "      <th>4</th>\n",
       "      <td>Al_Pacino</td>\n",
       "      <td>1</td>\n",
       "      <td>2</td>\n",
       "    </tr>\n",
       "    <tr>\n",
       "      <th>...</th>\n",
       "      <td>...</td>\n",
       "      <td>...</td>\n",
       "      <td>...</td>\n",
       "    </tr>\n",
       "    <tr>\n",
       "      <th>495</th>\n",
       "      <td>Winona_Ryder</td>\n",
       "      <td>6</td>\n",
       "      <td>15</td>\n",
       "    </tr>\n",
       "    <tr>\n",
       "      <th>496</th>\n",
       "      <td>Winona_Ryder</td>\n",
       "      <td>19</td>\n",
       "      <td>21</td>\n",
       "    </tr>\n",
       "    <tr>\n",
       "      <th>497</th>\n",
       "      <td>Yevgeny_Kafelnikov</td>\n",
       "      <td>3</td>\n",
       "      <td>4</td>\n",
       "    </tr>\n",
       "    <tr>\n",
       "      <th>498</th>\n",
       "      <td>Yoriko_Kawaguchi</td>\n",
       "      <td>3</td>\n",
       "      <td>10</td>\n",
       "    </tr>\n",
       "    <tr>\n",
       "      <th>499</th>\n",
       "      <td>Zoran_Djindjic</td>\n",
       "      <td>3</td>\n",
       "      <td>4</td>\n",
       "    </tr>\n",
       "  </tbody>\n",
       "</table>\n",
       "<p>500 rows × 3 columns</p>\n",
       "</div>"
      ],
      "text/plain": [
       "                   name  imagenum1  imagenum2\n",
       "0          Abdullah_Gul         13         14\n",
       "1          Abdullah_Gul         13         16\n",
       "2      Abdullatif_Sener          1          2\n",
       "3        Adel_Al-Jubeir          1          3\n",
       "4             Al_Pacino          1          2\n",
       "..                  ...        ...        ...\n",
       "495        Winona_Ryder          6         15\n",
       "496        Winona_Ryder         19         21\n",
       "497  Yevgeny_Kafelnikov          3          4\n",
       "498    Yoriko_Kawaguchi          3         10\n",
       "499      Zoran_Djindjic          3          4\n",
       "\n",
       "[500 rows x 3 columns]"
      ]
     },
     "execution_count": 16,
     "metadata": {},
     "output_type": "execute_result"
    }
   ],
   "source": [
    "matchpairsDevTest = pd.read_csv(dataset_path + \"matchpairsDevTest.csv\")\n",
    "matchpairsDevTest"
   ]
  },
  {
   "cell_type": "code",
   "execution_count": 17,
   "id": "ce5f4d39",
   "metadata": {},
   "outputs": [
    {
     "data": {
      "text/html": [
       "<div>\n",
       "<style scoped>\n",
       "    .dataframe tbody tr th:only-of-type {\n",
       "        vertical-align: middle;\n",
       "    }\n",
       "\n",
       "    .dataframe tbody tr th {\n",
       "        vertical-align: top;\n",
       "    }\n",
       "\n",
       "    .dataframe thead th {\n",
       "        text-align: right;\n",
       "    }\n",
       "</style>\n",
       "<table border=\"1\" class=\"dataframe\">\n",
       "  <thead>\n",
       "    <tr style=\"text-align: right;\">\n",
       "      <th></th>\n",
       "      <th>name</th>\n",
       "      <th>imagenum1</th>\n",
       "      <th>imagenum2</th>\n",
       "    </tr>\n",
       "  </thead>\n",
       "  <tbody>\n",
       "    <tr>\n",
       "      <th>2</th>\n",
       "      <td>Abdullatif_Sener</td>\n",
       "      <td>1</td>\n",
       "      <td>2</td>\n",
       "    </tr>\n",
       "  </tbody>\n",
       "</table>\n",
       "</div>"
      ],
      "text/plain": [
       "               name  imagenum1  imagenum2\n",
       "2  Abdullatif_Sener          1          2"
      ]
     },
     "execution_count": 17,
     "metadata": {},
     "output_type": "execute_result"
    }
   ],
   "source": [
    "matchpairsDevTest.loc[matchpairsDevTest['name'] == \"Abdullatif_Sener\"]"
   ]
  },
  {
   "cell_type": "code",
   "execution_count": 18,
   "id": "04981b3c",
   "metadata": {},
   "outputs": [
    {
     "data": {
      "text/html": [
       "<div>\n",
       "<style scoped>\n",
       "    .dataframe tbody tr th:only-of-type {\n",
       "        vertical-align: middle;\n",
       "    }\n",
       "\n",
       "    .dataframe tbody tr th {\n",
       "        vertical-align: top;\n",
       "    }\n",
       "\n",
       "    .dataframe thead th {\n",
       "        text-align: right;\n",
       "    }\n",
       "</style>\n",
       "<table border=\"1\" class=\"dataframe\">\n",
       "  <thead>\n",
       "    <tr style=\"text-align: right;\">\n",
       "      <th></th>\n",
       "      <th>name</th>\n",
       "      <th>imagenum1</th>\n",
       "      <th>imagenum2</th>\n",
       "    </tr>\n",
       "  </thead>\n",
       "  <tbody>\n",
       "    <tr>\n",
       "      <th>495</th>\n",
       "      <td>Winona_Ryder</td>\n",
       "      <td>6</td>\n",
       "      <td>15</td>\n",
       "    </tr>\n",
       "    <tr>\n",
       "      <th>496</th>\n",
       "      <td>Winona_Ryder</td>\n",
       "      <td>19</td>\n",
       "      <td>21</td>\n",
       "    </tr>\n",
       "  </tbody>\n",
       "</table>\n",
       "</div>"
      ],
      "text/plain": [
       "             name  imagenum1  imagenum2\n",
       "495  Winona_Ryder          6         15\n",
       "496  Winona_Ryder         19         21"
      ]
     },
     "execution_count": 18,
     "metadata": {},
     "output_type": "execute_result"
    }
   ],
   "source": [
    "matchpairsDevTest.loc[matchpairsDevTest['name'] == \"Winona_Ryder\"]"
   ]
  },
  {
   "cell_type": "code",
   "execution_count": 19,
   "id": "1c4fa851",
   "metadata": {},
   "outputs": [
    {
     "data": {
      "text/html": [
       "<div>\n",
       "<style scoped>\n",
       "    .dataframe tbody tr th:only-of-type {\n",
       "        vertical-align: middle;\n",
       "    }\n",
       "\n",
       "    .dataframe tbody tr th {\n",
       "        vertical-align: top;\n",
       "    }\n",
       "\n",
       "    .dataframe thead th {\n",
       "        text-align: right;\n",
       "    }\n",
       "</style>\n",
       "<table border=\"1\" class=\"dataframe\">\n",
       "  <thead>\n",
       "    <tr style=\"text-align: right;\">\n",
       "      <th></th>\n",
       "      <th>name</th>\n",
       "      <th>imagenum1</th>\n",
       "      <th>imagenum2</th>\n",
       "    </tr>\n",
       "  </thead>\n",
       "  <tbody>\n",
       "    <tr>\n",
       "      <th>0</th>\n",
       "      <td>Aaron_Peirsol</td>\n",
       "      <td>1</td>\n",
       "      <td>2</td>\n",
       "    </tr>\n",
       "    <tr>\n",
       "      <th>1</th>\n",
       "      <td>Aaron_Peirsol</td>\n",
       "      <td>3</td>\n",
       "      <td>4</td>\n",
       "    </tr>\n",
       "    <tr>\n",
       "      <th>2</th>\n",
       "      <td>Aaron_Sorkin</td>\n",
       "      <td>1</td>\n",
       "      <td>2</td>\n",
       "    </tr>\n",
       "    <tr>\n",
       "      <th>3</th>\n",
       "      <td>Abdel_Nasser_Assidi</td>\n",
       "      <td>1</td>\n",
       "      <td>2</td>\n",
       "    </tr>\n",
       "    <tr>\n",
       "      <th>4</th>\n",
       "      <td>Abdullah</td>\n",
       "      <td>1</td>\n",
       "      <td>3</td>\n",
       "    </tr>\n",
       "    <tr>\n",
       "      <th>...</th>\n",
       "      <td>...</td>\n",
       "      <td>...</td>\n",
       "      <td>...</td>\n",
       "    </tr>\n",
       "    <tr>\n",
       "      <th>1095</th>\n",
       "      <td>Zhu_Rongji</td>\n",
       "      <td>1</td>\n",
       "      <td>9</td>\n",
       "    </tr>\n",
       "    <tr>\n",
       "      <th>1096</th>\n",
       "      <td>Zhu_Rongji</td>\n",
       "      <td>4</td>\n",
       "      <td>7</td>\n",
       "    </tr>\n",
       "    <tr>\n",
       "      <th>1097</th>\n",
       "      <td>Zhu_Rongji</td>\n",
       "      <td>4</td>\n",
       "      <td>8</td>\n",
       "    </tr>\n",
       "    <tr>\n",
       "      <th>1098</th>\n",
       "      <td>Zhu_Rongji</td>\n",
       "      <td>5</td>\n",
       "      <td>6</td>\n",
       "    </tr>\n",
       "    <tr>\n",
       "      <th>1099</th>\n",
       "      <td>Zinedine_Zidane</td>\n",
       "      <td>2</td>\n",
       "      <td>4</td>\n",
       "    </tr>\n",
       "  </tbody>\n",
       "</table>\n",
       "<p>1100 rows × 3 columns</p>\n",
       "</div>"
      ],
      "text/plain": [
       "                     name  imagenum1  imagenum2\n",
       "0           Aaron_Peirsol          1          2\n",
       "1           Aaron_Peirsol          3          4\n",
       "2            Aaron_Sorkin          1          2\n",
       "3     Abdel_Nasser_Assidi          1          2\n",
       "4                Abdullah          1          3\n",
       "...                   ...        ...        ...\n",
       "1095           Zhu_Rongji          1          9\n",
       "1096           Zhu_Rongji          4          7\n",
       "1097           Zhu_Rongji          4          8\n",
       "1098           Zhu_Rongji          5          6\n",
       "1099      Zinedine_Zidane          2          4\n",
       "\n",
       "[1100 rows x 3 columns]"
      ]
     },
     "execution_count": 19,
     "metadata": {},
     "output_type": "execute_result"
    }
   ],
   "source": [
    "matchpairsDevTrain = pd.read_csv(dataset_path + \"matchpairsDevTrain.csv\")\n",
    "matchpairsDevTrain"
   ]
  },
  {
   "cell_type": "code",
   "execution_count": 20,
   "id": "82631119",
   "metadata": {},
   "outputs": [
    {
     "data": {
      "text/html": [
       "<div>\n",
       "<style scoped>\n",
       "    .dataframe tbody tr th:only-of-type {\n",
       "        vertical-align: middle;\n",
       "    }\n",
       "\n",
       "    .dataframe tbody tr th {\n",
       "        vertical-align: top;\n",
       "    }\n",
       "\n",
       "    .dataframe thead th {\n",
       "        text-align: right;\n",
       "    }\n",
       "</style>\n",
       "<table border=\"1\" class=\"dataframe\">\n",
       "  <thead>\n",
       "    <tr style=\"text-align: right;\">\n",
       "      <th></th>\n",
       "      <th>name</th>\n",
       "      <th>imagenum1</th>\n",
       "      <th>name.1</th>\n",
       "      <th>imagenum2</th>\n",
       "    </tr>\n",
       "  </thead>\n",
       "  <tbody>\n",
       "    <tr>\n",
       "      <th>0</th>\n",
       "      <td>AJ_Lamas</td>\n",
       "      <td>1</td>\n",
       "      <td>Zach_Safrin</td>\n",
       "      <td>1</td>\n",
       "    </tr>\n",
       "    <tr>\n",
       "      <th>1</th>\n",
       "      <td>Aaron_Guiel</td>\n",
       "      <td>1</td>\n",
       "      <td>Reese_Witherspoon</td>\n",
       "      <td>3</td>\n",
       "    </tr>\n",
       "    <tr>\n",
       "      <th>2</th>\n",
       "      <td>Aaron_Tippin</td>\n",
       "      <td>1</td>\n",
       "      <td>Jose_Luis_Rodriguez_Zapatero</td>\n",
       "      <td>1</td>\n",
       "    </tr>\n",
       "    <tr>\n",
       "      <th>3</th>\n",
       "      <td>Abdul_Majeed_Shobokshi</td>\n",
       "      <td>1</td>\n",
       "      <td>Charles_Cope</td>\n",
       "      <td>1</td>\n",
       "    </tr>\n",
       "    <tr>\n",
       "      <th>4</th>\n",
       "      <td>Abdullah_Gul</td>\n",
       "      <td>16</td>\n",
       "      <td>Steve_Cox</td>\n",
       "      <td>1</td>\n",
       "    </tr>\n",
       "    <tr>\n",
       "      <th>...</th>\n",
       "      <td>...</td>\n",
       "      <td>...</td>\n",
       "      <td>...</td>\n",
       "      <td>...</td>\n",
       "    </tr>\n",
       "    <tr>\n",
       "      <th>495</th>\n",
       "      <td>Susan_Whelan</td>\n",
       "      <td>1</td>\n",
       "      <td>Wolfgang_Schneiderhan</td>\n",
       "      <td>1</td>\n",
       "    </tr>\n",
       "    <tr>\n",
       "      <th>496</th>\n",
       "      <td>Takeo_Fukui</td>\n",
       "      <td>1</td>\n",
       "      <td>Will_Ofenheusle</td>\n",
       "      <td>1</td>\n",
       "    </tr>\n",
       "    <tr>\n",
       "      <th>497</th>\n",
       "      <td>Tamara_Mowry</td>\n",
       "      <td>1</td>\n",
       "      <td>Zach_Parise</td>\n",
       "      <td>1</td>\n",
       "    </tr>\n",
       "    <tr>\n",
       "      <th>498</th>\n",
       "      <td>Tatiana_Kennedy_Schlossberg</td>\n",
       "      <td>1</td>\n",
       "      <td>Thomas_Watjen</td>\n",
       "      <td>1</td>\n",
       "    </tr>\n",
       "    <tr>\n",
       "      <th>499</th>\n",
       "      <td>Todd_Petit</td>\n",
       "      <td>1</td>\n",
       "      <td>Vicente_Fernandez</td>\n",
       "      <td>3</td>\n",
       "    </tr>\n",
       "  </tbody>\n",
       "</table>\n",
       "<p>500 rows × 4 columns</p>\n",
       "</div>"
      ],
      "text/plain": [
       "                            name  imagenum1                        name.1  \\\n",
       "0                       AJ_Lamas          1                   Zach_Safrin   \n",
       "1                    Aaron_Guiel          1             Reese_Witherspoon   \n",
       "2                   Aaron_Tippin          1  Jose_Luis_Rodriguez_Zapatero   \n",
       "3         Abdul_Majeed_Shobokshi          1                  Charles_Cope   \n",
       "4                   Abdullah_Gul         16                     Steve_Cox   \n",
       "..                           ...        ...                           ...   \n",
       "495                 Susan_Whelan          1         Wolfgang_Schneiderhan   \n",
       "496                  Takeo_Fukui          1               Will_Ofenheusle   \n",
       "497                 Tamara_Mowry          1                   Zach_Parise   \n",
       "498  Tatiana_Kennedy_Schlossberg          1                 Thomas_Watjen   \n",
       "499                   Todd_Petit          1             Vicente_Fernandez   \n",
       "\n",
       "     imagenum2  \n",
       "0            1  \n",
       "1            3  \n",
       "2            1  \n",
       "3            1  \n",
       "4            1  \n",
       "..         ...  \n",
       "495          1  \n",
       "496          1  \n",
       "497          1  \n",
       "498          1  \n",
       "499          3  \n",
       "\n",
       "[500 rows x 4 columns]"
      ]
     },
     "execution_count": 20,
     "metadata": {},
     "output_type": "execute_result"
    }
   ],
   "source": [
    "mismatchpairsDevTest = pd.read_csv(dataset_path + \"mismatchpairsDevTest.csv\")\n",
    "mismatchpairsDevTest"
   ]
  },
  {
   "cell_type": "code",
   "execution_count": 21,
   "id": "ade70f0a",
   "metadata": {},
   "outputs": [
    {
     "data": {
      "text/html": [
       "<div>\n",
       "<style scoped>\n",
       "    .dataframe tbody tr th:only-of-type {\n",
       "        vertical-align: middle;\n",
       "    }\n",
       "\n",
       "    .dataframe tbody tr th {\n",
       "        vertical-align: top;\n",
       "    }\n",
       "\n",
       "    .dataframe thead th {\n",
       "        text-align: right;\n",
       "    }\n",
       "</style>\n",
       "<table border=\"1\" class=\"dataframe\">\n",
       "  <thead>\n",
       "    <tr style=\"text-align: right;\">\n",
       "      <th></th>\n",
       "      <th>name</th>\n",
       "      <th>imagenum1</th>\n",
       "      <th>name.1</th>\n",
       "      <th>imagenum2</th>\n",
       "    </tr>\n",
       "  </thead>\n",
       "  <tbody>\n",
       "    <tr>\n",
       "      <th>0</th>\n",
       "      <td>AJ_Cook</td>\n",
       "      <td>1</td>\n",
       "      <td>Marsha_Thomason</td>\n",
       "      <td>1</td>\n",
       "    </tr>\n",
       "    <tr>\n",
       "      <th>1</th>\n",
       "      <td>Aaron_Sorkin</td>\n",
       "      <td>2</td>\n",
       "      <td>Frank_Solich</td>\n",
       "      <td>5</td>\n",
       "    </tr>\n",
       "    <tr>\n",
       "      <th>2</th>\n",
       "      <td>Abdel_Nasser_Assidi</td>\n",
       "      <td>2</td>\n",
       "      <td>Hilary_McKay</td>\n",
       "      <td>1</td>\n",
       "    </tr>\n",
       "    <tr>\n",
       "      <th>3</th>\n",
       "      <td>Abdoulaye_Wade</td>\n",
       "      <td>4</td>\n",
       "      <td>Linda_Dano</td>\n",
       "      <td>1</td>\n",
       "    </tr>\n",
       "    <tr>\n",
       "      <th>4</th>\n",
       "      <td>Abdul_Rahman</td>\n",
       "      <td>1</td>\n",
       "      <td>Magui_Serna</td>\n",
       "      <td>1</td>\n",
       "    </tr>\n",
       "    <tr>\n",
       "      <th>...</th>\n",
       "      <td>...</td>\n",
       "      <td>...</td>\n",
       "      <td>...</td>\n",
       "      <td>...</td>\n",
       "    </tr>\n",
       "    <tr>\n",
       "      <th>1095</th>\n",
       "      <td>Tom_Vilsack</td>\n",
       "      <td>1</td>\n",
       "      <td>Wayne_Ferreira</td>\n",
       "      <td>5</td>\n",
       "    </tr>\n",
       "    <tr>\n",
       "      <th>1096</th>\n",
       "      <td>Trisha_Meili</td>\n",
       "      <td>1</td>\n",
       "      <td>Vladimiro_Montesinos</td>\n",
       "      <td>3</td>\n",
       "    </tr>\n",
       "    <tr>\n",
       "      <th>1097</th>\n",
       "      <td>Ty_Votaw</td>\n",
       "      <td>1</td>\n",
       "      <td>Wayne_Allard</td>\n",
       "      <td>1</td>\n",
       "    </tr>\n",
       "    <tr>\n",
       "      <th>1098</th>\n",
       "      <td>Vytas_Danelius</td>\n",
       "      <td>1</td>\n",
       "      <td>Zaini_Abdullah</td>\n",
       "      <td>1</td>\n",
       "    </tr>\n",
       "    <tr>\n",
       "      <th>1099</th>\n",
       "      <td>Wendy_Kennedy</td>\n",
       "      <td>1</td>\n",
       "      <td>Zara_Akhmadova</td>\n",
       "      <td>1</td>\n",
       "    </tr>\n",
       "  </tbody>\n",
       "</table>\n",
       "<p>1100 rows × 4 columns</p>\n",
       "</div>"
      ],
      "text/plain": [
       "                     name  imagenum1                name.1  imagenum2\n",
       "0                 AJ_Cook          1       Marsha_Thomason          1\n",
       "1            Aaron_Sorkin          2          Frank_Solich          5\n",
       "2     Abdel_Nasser_Assidi          2          Hilary_McKay          1\n",
       "3          Abdoulaye_Wade          4            Linda_Dano          1\n",
       "4            Abdul_Rahman          1           Magui_Serna          1\n",
       "...                   ...        ...                   ...        ...\n",
       "1095          Tom_Vilsack          1        Wayne_Ferreira          5\n",
       "1096         Trisha_Meili          1  Vladimiro_Montesinos          3\n",
       "1097             Ty_Votaw          1          Wayne_Allard          1\n",
       "1098       Vytas_Danelius          1        Zaini_Abdullah          1\n",
       "1099        Wendy_Kennedy          1        Zara_Akhmadova          1\n",
       "\n",
       "[1100 rows x 4 columns]"
      ]
     },
     "execution_count": 21,
     "metadata": {},
     "output_type": "execute_result"
    }
   ],
   "source": [
    "mismatchpairsDevTrain = pd.read_csv(dataset_path + \"mismatchpairsDevTrain.csv\")\n",
    "mismatchpairsDevTrain"
   ]
  },
  {
   "cell_type": "code",
   "execution_count": 22,
   "id": "1b27b338",
   "metadata": {},
   "outputs": [
    {
     "data": {
      "text/html": [
       "<div>\n",
       "<style scoped>\n",
       "    .dataframe tbody tr th:only-of-type {\n",
       "        vertical-align: middle;\n",
       "    }\n",
       "\n",
       "    .dataframe tbody tr th {\n",
       "        vertical-align: top;\n",
       "    }\n",
       "\n",
       "    .dataframe thead th {\n",
       "        text-align: right;\n",
       "    }\n",
       "</style>\n",
       "<table border=\"1\" class=\"dataframe\">\n",
       "  <thead>\n",
       "    <tr style=\"text-align: right;\">\n",
       "      <th></th>\n",
       "      <th>name</th>\n",
       "      <th>imagenum1</th>\n",
       "      <th>imagenum2</th>\n",
       "      <th>Unnamed: 3</th>\n",
       "    </tr>\n",
       "  </thead>\n",
       "  <tbody>\n",
       "    <tr>\n",
       "      <th>0</th>\n",
       "      <td>Abel_Pacheco</td>\n",
       "      <td>1</td>\n",
       "      <td>4</td>\n",
       "      <td>NaN</td>\n",
       "    </tr>\n",
       "    <tr>\n",
       "      <th>1</th>\n",
       "      <td>Akhmed_Zakayev</td>\n",
       "      <td>1</td>\n",
       "      <td>3</td>\n",
       "      <td>NaN</td>\n",
       "    </tr>\n",
       "    <tr>\n",
       "      <th>2</th>\n",
       "      <td>Akhmed_Zakayev</td>\n",
       "      <td>2</td>\n",
       "      <td>3</td>\n",
       "      <td>NaN</td>\n",
       "    </tr>\n",
       "    <tr>\n",
       "      <th>3</th>\n",
       "      <td>Amber_Tamblyn</td>\n",
       "      <td>1</td>\n",
       "      <td>2</td>\n",
       "      <td>NaN</td>\n",
       "    </tr>\n",
       "    <tr>\n",
       "      <th>4</th>\n",
       "      <td>Anders_Fogh_Rasmussen</td>\n",
       "      <td>1</td>\n",
       "      <td>3</td>\n",
       "      <td>NaN</td>\n",
       "    </tr>\n",
       "    <tr>\n",
       "      <th>...</th>\n",
       "      <td>...</td>\n",
       "      <td>...</td>\n",
       "      <td>...</td>\n",
       "      <td>...</td>\n",
       "    </tr>\n",
       "    <tr>\n",
       "      <th>5995</th>\n",
       "      <td>Scott_Wolf</td>\n",
       "      <td>2</td>\n",
       "      <td>Troy_Polamalu</td>\n",
       "      <td>1.0</td>\n",
       "    </tr>\n",
       "    <tr>\n",
       "      <th>5996</th>\n",
       "      <td>Sergei_Alexandrovitch_Ordzhonikidze</td>\n",
       "      <td>1</td>\n",
       "      <td>Yolanda_King</td>\n",
       "      <td>1.0</td>\n",
       "    </tr>\n",
       "    <tr>\n",
       "      <th>5997</th>\n",
       "      <td>Shane_Loux</td>\n",
       "      <td>1</td>\n",
       "      <td>Val_Ackerman</td>\n",
       "      <td>1.0</td>\n",
       "    </tr>\n",
       "    <tr>\n",
       "      <th>5998</th>\n",
       "      <td>Shawn_Marion</td>\n",
       "      <td>1</td>\n",
       "      <td>Shirley_Jones</td>\n",
       "      <td>1.0</td>\n",
       "    </tr>\n",
       "    <tr>\n",
       "      <th>5999</th>\n",
       "      <td>Slobodan_Milosevic</td>\n",
       "      <td>2</td>\n",
       "      <td>Sok_An</td>\n",
       "      <td>1.0</td>\n",
       "    </tr>\n",
       "  </tbody>\n",
       "</table>\n",
       "<p>6000 rows × 4 columns</p>\n",
       "</div>"
      ],
      "text/plain": [
       "                                     name  imagenum1      imagenum2  \\\n",
       "0                            Abel_Pacheco          1              4   \n",
       "1                          Akhmed_Zakayev          1              3   \n",
       "2                          Akhmed_Zakayev          2              3   \n",
       "3                           Amber_Tamblyn          1              2   \n",
       "4                   Anders_Fogh_Rasmussen          1              3   \n",
       "...                                   ...        ...            ...   \n",
       "5995                           Scott_Wolf          2  Troy_Polamalu   \n",
       "5996  Sergei_Alexandrovitch_Ordzhonikidze          1   Yolanda_King   \n",
       "5997                           Shane_Loux          1   Val_Ackerman   \n",
       "5998                         Shawn_Marion          1  Shirley_Jones   \n",
       "5999                   Slobodan_Milosevic          2         Sok_An   \n",
       "\n",
       "      Unnamed: 3  \n",
       "0            NaN  \n",
       "1            NaN  \n",
       "2            NaN  \n",
       "3            NaN  \n",
       "4            NaN  \n",
       "...          ...  \n",
       "5995         1.0  \n",
       "5996         1.0  \n",
       "5997         1.0  \n",
       "5998         1.0  \n",
       "5999         1.0  \n",
       "\n",
       "[6000 rows x 4 columns]"
      ]
     },
     "execution_count": 22,
     "metadata": {},
     "output_type": "execute_result"
    }
   ],
   "source": [
    "pairs = pd.read_csv(dataset_path + \"pairs.csv\")\n",
    "pairs"
   ]
  },
  {
   "cell_type": "code",
   "execution_count": 23,
   "id": "4b30c81e",
   "metadata": {},
   "outputs": [],
   "source": [
    "# Generate complete matched and mismatched pairs from above pairs df\n",
    "pairs = pairs.rename(columns = {'name':'name1', 'Unnamed: 3':'name2'})\n",
    "matched_pairs = pairs[pairs[\"name2\"].isnull()].drop(\"name2\", axis=1)\n",
    "mismatched_pairs = pairs[pairs[\"name2\"].notnull()]"
   ]
  },
  {
   "cell_type": "code",
   "execution_count": 24,
   "id": "2e4dfd99",
   "metadata": {},
   "outputs": [
    {
     "data": {
      "text/html": [
       "<div>\n",
       "<style scoped>\n",
       "    .dataframe tbody tr th:only-of-type {\n",
       "        vertical-align: middle;\n",
       "    }\n",
       "\n",
       "    .dataframe tbody tr th {\n",
       "        vertical-align: top;\n",
       "    }\n",
       "\n",
       "    .dataframe thead th {\n",
       "        text-align: right;\n",
       "    }\n",
       "</style>\n",
       "<table border=\"1\" class=\"dataframe\">\n",
       "  <thead>\n",
       "    <tr style=\"text-align: right;\">\n",
       "      <th></th>\n",
       "      <th>name1</th>\n",
       "      <th>imagenum1</th>\n",
       "      <th>imagenum2</th>\n",
       "    </tr>\n",
       "  </thead>\n",
       "  <tbody>\n",
       "    <tr>\n",
       "      <th>0</th>\n",
       "      <td>Abel_Pacheco</td>\n",
       "      <td>1</td>\n",
       "      <td>4</td>\n",
       "    </tr>\n",
       "    <tr>\n",
       "      <th>1</th>\n",
       "      <td>Akhmed_Zakayev</td>\n",
       "      <td>1</td>\n",
       "      <td>3</td>\n",
       "    </tr>\n",
       "    <tr>\n",
       "      <th>2</th>\n",
       "      <td>Akhmed_Zakayev</td>\n",
       "      <td>2</td>\n",
       "      <td>3</td>\n",
       "    </tr>\n",
       "    <tr>\n",
       "      <th>3</th>\n",
       "      <td>Amber_Tamblyn</td>\n",
       "      <td>1</td>\n",
       "      <td>2</td>\n",
       "    </tr>\n",
       "    <tr>\n",
       "      <th>4</th>\n",
       "      <td>Anders_Fogh_Rasmussen</td>\n",
       "      <td>1</td>\n",
       "      <td>3</td>\n",
       "    </tr>\n",
       "    <tr>\n",
       "      <th>...</th>\n",
       "      <td>...</td>\n",
       "      <td>...</td>\n",
       "      <td>...</td>\n",
       "    </tr>\n",
       "    <tr>\n",
       "      <th>5695</th>\n",
       "      <td>Vladimir_Voltchkov</td>\n",
       "      <td>1</td>\n",
       "      <td>2</td>\n",
       "    </tr>\n",
       "    <tr>\n",
       "      <th>5696</th>\n",
       "      <td>Wang_Yi</td>\n",
       "      <td>1</td>\n",
       "      <td>2</td>\n",
       "    </tr>\n",
       "    <tr>\n",
       "      <th>5697</th>\n",
       "      <td>Zafarullah_Khan_Jamali</td>\n",
       "      <td>1</td>\n",
       "      <td>2</td>\n",
       "    </tr>\n",
       "    <tr>\n",
       "      <th>5698</th>\n",
       "      <td>Zhu_Rongji</td>\n",
       "      <td>1</td>\n",
       "      <td>3</td>\n",
       "    </tr>\n",
       "    <tr>\n",
       "      <th>5699</th>\n",
       "      <td>Zhu_Rongji</td>\n",
       "      <td>2</td>\n",
       "      <td>8</td>\n",
       "    </tr>\n",
       "  </tbody>\n",
       "</table>\n",
       "<p>3000 rows × 3 columns</p>\n",
       "</div>"
      ],
      "text/plain": [
       "                       name1  imagenum1 imagenum2\n",
       "0               Abel_Pacheco          1         4\n",
       "1             Akhmed_Zakayev          1         3\n",
       "2             Akhmed_Zakayev          2         3\n",
       "3              Amber_Tamblyn          1         2\n",
       "4      Anders_Fogh_Rasmussen          1         3\n",
       "...                      ...        ...       ...\n",
       "5695      Vladimir_Voltchkov          1         2\n",
       "5696                 Wang_Yi          1         2\n",
       "5697  Zafarullah_Khan_Jamali          1         2\n",
       "5698              Zhu_Rongji          1         3\n",
       "5699              Zhu_Rongji          2         8\n",
       "\n",
       "[3000 rows x 3 columns]"
      ]
     },
     "execution_count": 24,
     "metadata": {},
     "output_type": "execute_result"
    }
   ],
   "source": [
    "matched_pairs"
   ]
  },
  {
   "cell_type": "code",
   "execution_count": 25,
   "id": "ccaee59a",
   "metadata": {},
   "outputs": [
    {
     "data": {
      "text/html": [
       "<div>\n",
       "<style scoped>\n",
       "    .dataframe tbody tr th:only-of-type {\n",
       "        vertical-align: middle;\n",
       "    }\n",
       "\n",
       "    .dataframe tbody tr th {\n",
       "        vertical-align: top;\n",
       "    }\n",
       "\n",
       "    .dataframe thead th {\n",
       "        text-align: right;\n",
       "    }\n",
       "</style>\n",
       "<table border=\"1\" class=\"dataframe\">\n",
       "  <thead>\n",
       "    <tr style=\"text-align: right;\">\n",
       "      <th></th>\n",
       "      <th>name1</th>\n",
       "      <th>imagenum1</th>\n",
       "      <th>name2</th>\n",
       "      <th>imagenum2</th>\n",
       "    </tr>\n",
       "  </thead>\n",
       "  <tbody>\n",
       "    <tr>\n",
       "      <th>300</th>\n",
       "      <td>Abdel_Madi_Shabneh</td>\n",
       "      <td>1</td>\n",
       "      <td>Dean_Barker</td>\n",
       "      <td>1.0</td>\n",
       "    </tr>\n",
       "    <tr>\n",
       "      <th>301</th>\n",
       "      <td>Abdel_Madi_Shabneh</td>\n",
       "      <td>1</td>\n",
       "      <td>Giancarlo_Fisichella</td>\n",
       "      <td>1.0</td>\n",
       "    </tr>\n",
       "    <tr>\n",
       "      <th>302</th>\n",
       "      <td>Abdel_Madi_Shabneh</td>\n",
       "      <td>1</td>\n",
       "      <td>Mikhail_Gorbachev</td>\n",
       "      <td>1.0</td>\n",
       "    </tr>\n",
       "    <tr>\n",
       "      <th>303</th>\n",
       "      <td>Abdul_Rahman</td>\n",
       "      <td>1</td>\n",
       "      <td>Portia_de_Rossi</td>\n",
       "      <td>1.0</td>\n",
       "    </tr>\n",
       "    <tr>\n",
       "      <th>304</th>\n",
       "      <td>Abel_Pacheco</td>\n",
       "      <td>1</td>\n",
       "      <td>Jong_Thae_Hwa</td>\n",
       "      <td>2.0</td>\n",
       "    </tr>\n",
       "    <tr>\n",
       "      <th>...</th>\n",
       "      <td>...</td>\n",
       "      <td>...</td>\n",
       "      <td>...</td>\n",
       "      <td>...</td>\n",
       "    </tr>\n",
       "    <tr>\n",
       "      <th>5995</th>\n",
       "      <td>Scott_Wolf</td>\n",
       "      <td>2</td>\n",
       "      <td>Troy_Polamalu</td>\n",
       "      <td>1.0</td>\n",
       "    </tr>\n",
       "    <tr>\n",
       "      <th>5996</th>\n",
       "      <td>Sergei_Alexandrovitch_Ordzhonikidze</td>\n",
       "      <td>1</td>\n",
       "      <td>Yolanda_King</td>\n",
       "      <td>1.0</td>\n",
       "    </tr>\n",
       "    <tr>\n",
       "      <th>5997</th>\n",
       "      <td>Shane_Loux</td>\n",
       "      <td>1</td>\n",
       "      <td>Val_Ackerman</td>\n",
       "      <td>1.0</td>\n",
       "    </tr>\n",
       "    <tr>\n",
       "      <th>5998</th>\n",
       "      <td>Shawn_Marion</td>\n",
       "      <td>1</td>\n",
       "      <td>Shirley_Jones</td>\n",
       "      <td>1.0</td>\n",
       "    </tr>\n",
       "    <tr>\n",
       "      <th>5999</th>\n",
       "      <td>Slobodan_Milosevic</td>\n",
       "      <td>2</td>\n",
       "      <td>Sok_An</td>\n",
       "      <td>1.0</td>\n",
       "    </tr>\n",
       "  </tbody>\n",
       "</table>\n",
       "<p>3000 rows × 4 columns</p>\n",
       "</div>"
      ],
      "text/plain": [
       "                                    name1  imagenum1                 name2  \\\n",
       "300                    Abdel_Madi_Shabneh          1           Dean_Barker   \n",
       "301                    Abdel_Madi_Shabneh          1  Giancarlo_Fisichella   \n",
       "302                    Abdel_Madi_Shabneh          1     Mikhail_Gorbachev   \n",
       "303                          Abdul_Rahman          1       Portia_de_Rossi   \n",
       "304                          Abel_Pacheco          1         Jong_Thae_Hwa   \n",
       "...                                   ...        ...                   ...   \n",
       "5995                           Scott_Wolf          2         Troy_Polamalu   \n",
       "5996  Sergei_Alexandrovitch_Ordzhonikidze          1          Yolanda_King   \n",
       "5997                           Shane_Loux          1          Val_Ackerman   \n",
       "5998                         Shawn_Marion          1         Shirley_Jones   \n",
       "5999                   Slobodan_Milosevic          2                Sok_An   \n",
       "\n",
       "      imagenum2  \n",
       "300         1.0  \n",
       "301         1.0  \n",
       "302         1.0  \n",
       "303         1.0  \n",
       "304         2.0  \n",
       "...         ...  \n",
       "5995        1.0  \n",
       "5996        1.0  \n",
       "5997        1.0  \n",
       "5998        1.0  \n",
       "5999        1.0  \n",
       "\n",
       "[3000 rows x 4 columns]"
      ]
     },
     "execution_count": 25,
     "metadata": {},
     "output_type": "execute_result"
    }
   ],
   "source": [
    "mismatched_pairs = mismatched_pairs.rename(columns = {'imagenum2':'name2', 'name2':'imagenum2'})\n",
    "mismatched_pairs"
   ]
  },
  {
   "cell_type": "code",
   "execution_count": 26,
   "id": "497e4639",
   "metadata": {},
   "outputs": [
    {
     "data": {
      "text/html": [
       "<div>\n",
       "<style scoped>\n",
       "    .dataframe tbody tr th:only-of-type {\n",
       "        vertical-align: middle;\n",
       "    }\n",
       "\n",
       "    .dataframe tbody tr th {\n",
       "        vertical-align: top;\n",
       "    }\n",
       "\n",
       "    .dataframe thead th {\n",
       "        text-align: right;\n",
       "    }\n",
       "</style>\n",
       "<table border=\"1\" class=\"dataframe\">\n",
       "  <thead>\n",
       "    <tr style=\"text-align: right;\">\n",
       "      <th></th>\n",
       "      <th>name</th>\n",
       "      <th>images</th>\n",
       "    </tr>\n",
       "  </thead>\n",
       "  <tbody>\n",
       "    <tr>\n",
       "      <th>0</th>\n",
       "      <td>Abdel_Madi_Shabneh</td>\n",
       "      <td>1.0</td>\n",
       "    </tr>\n",
       "    <tr>\n",
       "      <th>1</th>\n",
       "      <td>Abdul_Rahman</td>\n",
       "      <td>1.0</td>\n",
       "    </tr>\n",
       "    <tr>\n",
       "      <th>2</th>\n",
       "      <td>Abel_Pacheco</td>\n",
       "      <td>4.0</td>\n",
       "    </tr>\n",
       "    <tr>\n",
       "      <th>3</th>\n",
       "      <td>Adriana_Lima</td>\n",
       "      <td>1.0</td>\n",
       "    </tr>\n",
       "    <tr>\n",
       "      <th>4</th>\n",
       "      <td>Afton_Smith</td>\n",
       "      <td>1.0</td>\n",
       "    </tr>\n",
       "    <tr>\n",
       "      <th>...</th>\n",
       "      <td>...</td>\n",
       "      <td>...</td>\n",
       "    </tr>\n",
       "    <tr>\n",
       "      <th>5753</th>\n",
       "      <td>Yves_Brodeur</td>\n",
       "      <td>1.0</td>\n",
       "    </tr>\n",
       "    <tr>\n",
       "      <th>5754</th>\n",
       "      <td>Zach_Pillar</td>\n",
       "      <td>1.0</td>\n",
       "    </tr>\n",
       "    <tr>\n",
       "      <th>5755</th>\n",
       "      <td>Zafarullah_Khan_Jamali</td>\n",
       "      <td>2.0</td>\n",
       "    </tr>\n",
       "    <tr>\n",
       "      <th>5756</th>\n",
       "      <td>Zara_Akhmadova</td>\n",
       "      <td>1.0</td>\n",
       "    </tr>\n",
       "    <tr>\n",
       "      <th>5757</th>\n",
       "      <td>Zhu_Rongji</td>\n",
       "      <td>9.0</td>\n",
       "    </tr>\n",
       "  </tbody>\n",
       "</table>\n",
       "<p>5758 rows × 2 columns</p>\n",
       "</div>"
      ],
      "text/plain": [
       "                        name  images\n",
       "0         Abdel_Madi_Shabneh     1.0\n",
       "1               Abdul_Rahman     1.0\n",
       "2               Abel_Pacheco     4.0\n",
       "3               Adriana_Lima     1.0\n",
       "4                Afton_Smith     1.0\n",
       "...                      ...     ...\n",
       "5753            Yves_Brodeur     1.0\n",
       "5754             Zach_Pillar     1.0\n",
       "5755  Zafarullah_Khan_Jamali     2.0\n",
       "5756          Zara_Akhmadova     1.0\n",
       "5757              Zhu_Rongji     9.0\n",
       "\n",
       "[5758 rows x 2 columns]"
      ]
     },
     "execution_count": 26,
     "metadata": {},
     "output_type": "execute_result"
    }
   ],
   "source": [
    "people = pd.read_csv(dataset_path + \"people.csv\")\n",
    "people"
   ]
  },
  {
   "cell_type": "code",
   "execution_count": 27,
   "id": "8f028764",
   "metadata": {},
   "outputs": [
    {
     "data": {
      "text/html": [
       "<div>\n",
       "<style scoped>\n",
       "    .dataframe tbody tr th:only-of-type {\n",
       "        vertical-align: middle;\n",
       "    }\n",
       "\n",
       "    .dataframe tbody tr th {\n",
       "        vertical-align: top;\n",
       "    }\n",
       "\n",
       "    .dataframe thead th {\n",
       "        text-align: right;\n",
       "    }\n",
       "</style>\n",
       "<table border=\"1\" class=\"dataframe\">\n",
       "  <thead>\n",
       "    <tr style=\"text-align: right;\">\n",
       "      <th></th>\n",
       "      <th>name</th>\n",
       "      <th>images</th>\n",
       "    </tr>\n",
       "  </thead>\n",
       "  <tbody>\n",
       "    <tr>\n",
       "      <th>5355</th>\n",
       "      <td>George_W_Bush</td>\n",
       "      <td>530.0</td>\n",
       "    </tr>\n",
       "  </tbody>\n",
       "</table>\n",
       "</div>"
      ],
      "text/plain": [
       "               name  images\n",
       "5355  George_W_Bush   530.0"
      ]
     },
     "execution_count": 27,
     "metadata": {},
     "output_type": "execute_result"
    }
   ],
   "source": [
    "people.loc[people['name'] == 'George_W_Bush']"
   ]
  },
  {
   "cell_type": "code",
   "execution_count": 28,
   "id": "92d2b2ad",
   "metadata": {},
   "outputs": [
    {
     "data": {
      "text/plain": [
       "(1711, 2)"
      ]
     },
     "execution_count": 28,
     "metadata": {},
     "output_type": "execute_result"
    }
   ],
   "source": [
    "peopleDevTest = pd.read_csv(dataset_path + \"peopleDevTest.csv\")\n",
    "peopleDevTest.shape"
   ]
  },
  {
   "cell_type": "code",
   "execution_count": 29,
   "id": "716627be",
   "metadata": {},
   "outputs": [
    {
     "data": {
      "text/plain": [
       "(4038, 2)"
      ]
     },
     "execution_count": 29,
     "metadata": {},
     "output_type": "execute_result"
    }
   ],
   "source": [
    "peopleDevTrain = pd.read_csv(dataset_path + \"peopleDevTrain.csv\")\n",
    "peopleDevTrain.shape"
   ]
  },
  {
   "cell_type": "code",
   "execution_count": 30,
   "id": "57e5b4c7",
   "metadata": {},
   "outputs": [
    {
     "data": {
      "text/plain": [
       "2"
      ]
     },
     "execution_count": 30,
     "metadata": {},
     "output_type": "execute_result"
    }
   ],
   "source": [
    "peopleDevTest.ndim"
   ]
  },
  {
   "cell_type": "markdown",
   "id": "9077ef70",
   "metadata": {},
   "source": [
    "## Data Shaping"
   ]
  },
  {
   "cell_type": "code",
   "execution_count": 31,
   "id": "198cef61",
   "metadata": {},
   "outputs": [
    {
     "data": {
      "text/html": [
       "<div>\n",
       "<style scoped>\n",
       "    .dataframe tbody tr th:only-of-type {\n",
       "        vertical-align: middle;\n",
       "    }\n",
       "\n",
       "    .dataframe tbody tr th {\n",
       "        vertical-align: top;\n",
       "    }\n",
       "\n",
       "    .dataframe thead th {\n",
       "        text-align: right;\n",
       "    }\n",
       "</style>\n",
       "<table border=\"1\" class=\"dataframe\">\n",
       "  <thead>\n",
       "    <tr style=\"text-align: right;\">\n",
       "      <th></th>\n",
       "      <th>name</th>\n",
       "      <th>image_path</th>\n",
       "    </tr>\n",
       "  </thead>\n",
       "  <tbody>\n",
       "    <tr>\n",
       "      <th>0</th>\n",
       "      <td>AJ_Cook</td>\n",
       "      <td>AJ_Cook/AJ_Cook_0001.jpg</td>\n",
       "    </tr>\n",
       "    <tr>\n",
       "      <th>1</th>\n",
       "      <td>AJ_Lamas</td>\n",
       "      <td>AJ_Lamas/AJ_Lamas_0001.jpg</td>\n",
       "    </tr>\n",
       "    <tr>\n",
       "      <th>2</th>\n",
       "      <td>Aaron_Eckhart</td>\n",
       "      <td>Aaron_Eckhart/Aaron_Eckhart_0001.jpg</td>\n",
       "    </tr>\n",
       "    <tr>\n",
       "      <th>3</th>\n",
       "      <td>Aaron_Guiel</td>\n",
       "      <td>Aaron_Guiel/Aaron_Guiel_0001.jpg</td>\n",
       "    </tr>\n",
       "    <tr>\n",
       "      <th>4</th>\n",
       "      <td>Aaron_Patterson</td>\n",
       "      <td>Aaron_Patterson/Aaron_Patterson_0001.jpg</td>\n",
       "    </tr>\n",
       "    <tr>\n",
       "      <th>...</th>\n",
       "      <td>...</td>\n",
       "      <td>...</td>\n",
       "    </tr>\n",
       "    <tr>\n",
       "      <th>5744</th>\n",
       "      <td>Zorica_Radovic</td>\n",
       "      <td>Zorica_Radovic/Zorica_Radovic_0001.jpg</td>\n",
       "    </tr>\n",
       "    <tr>\n",
       "      <th>5745</th>\n",
       "      <td>Zulfiqar_Ahmed</td>\n",
       "      <td>Zulfiqar_Ahmed/Zulfiqar_Ahmed_0001.jpg</td>\n",
       "    </tr>\n",
       "    <tr>\n",
       "      <th>5746</th>\n",
       "      <td>Zumrati_Juma</td>\n",
       "      <td>Zumrati_Juma/Zumrati_Juma_0001.jpg</td>\n",
       "    </tr>\n",
       "    <tr>\n",
       "      <th>5747</th>\n",
       "      <td>Zurab_Tsereteli</td>\n",
       "      <td>Zurab_Tsereteli/Zurab_Tsereteli_0001.jpg</td>\n",
       "    </tr>\n",
       "    <tr>\n",
       "      <th>5748</th>\n",
       "      <td>Zydrunas_Ilgauskas</td>\n",
       "      <td>Zydrunas_Ilgauskas/Zydrunas_Ilgauskas_0001.jpg</td>\n",
       "    </tr>\n",
       "  </tbody>\n",
       "</table>\n",
       "<p>13233 rows × 2 columns</p>\n",
       "</div>"
      ],
      "text/plain": [
       "                    name                                      image_path\n",
       "0                AJ_Cook                        AJ_Cook/AJ_Cook_0001.jpg\n",
       "1               AJ_Lamas                      AJ_Lamas/AJ_Lamas_0001.jpg\n",
       "2          Aaron_Eckhart            Aaron_Eckhart/Aaron_Eckhart_0001.jpg\n",
       "3            Aaron_Guiel                Aaron_Guiel/Aaron_Guiel_0001.jpg\n",
       "4        Aaron_Patterson        Aaron_Patterson/Aaron_Patterson_0001.jpg\n",
       "...                  ...                                             ...\n",
       "5744      Zorica_Radovic          Zorica_Radovic/Zorica_Radovic_0001.jpg\n",
       "5745      Zulfiqar_Ahmed          Zulfiqar_Ahmed/Zulfiqar_Ahmed_0001.jpg\n",
       "5746        Zumrati_Juma              Zumrati_Juma/Zumrati_Juma_0001.jpg\n",
       "5747     Zurab_Tsereteli        Zurab_Tsereteli/Zurab_Tsereteli_0001.jpg\n",
       "5748  Zydrunas_Ilgauskas  Zydrunas_Ilgauskas/Zydrunas_Ilgauskas_0001.jpg\n",
       "\n",
       "[13233 rows x 2 columns]"
      ]
     },
     "execution_count": 31,
     "metadata": {},
     "output_type": "execute_result"
    }
   ],
   "source": [
    "image_paths = lfw_allnames.loc[lfw_allnames.index.repeat(lfw_allnames['images'])]\n",
    "image_paths['image_path'] = 1 + image_paths.groupby('name').cumcount()\n",
    "image_paths['image_path'] = image_paths.image_path.apply(lambda x: '{0:0>4}'.format(x))\n",
    "image_paths['image_path'] = image_paths.name + \"/\" + image_paths.name + \"_\" + image_paths.image_path + \".jpg\"\n",
    "image_paths = image_paths.drop(\"images\",axis=1)\n",
    "image_paths"
   ]
  },
  {
   "cell_type": "code",
   "execution_count": 32,
   "id": "ac4a8b2a",
   "metadata": {},
   "outputs": [
    {
     "data": {
      "text/html": [
       "<div>\n",
       "<style scoped>\n",
       "    .dataframe tbody tr th:only-of-type {\n",
       "        vertical-align: middle;\n",
       "    }\n",
       "\n",
       "    .dataframe tbody tr th {\n",
       "        vertical-align: top;\n",
       "    }\n",
       "\n",
       "    .dataframe thead th {\n",
       "        text-align: right;\n",
       "    }\n",
       "</style>\n",
       "<table border=\"1\" class=\"dataframe\">\n",
       "  <thead>\n",
       "    <tr style=\"text-align: right;\">\n",
       "      <th></th>\n",
       "      <th>name</th>\n",
       "      <th>image_path</th>\n",
       "    </tr>\n",
       "  </thead>\n",
       "  <tbody>\n",
       "    <tr>\n",
       "      <th>5738</th>\n",
       "      <td>Zhu_Rongji</td>\n",
       "      <td>Zhu_Rongji/Zhu_Rongji_0001.jpg</td>\n",
       "    </tr>\n",
       "    <tr>\n",
       "      <th>5738</th>\n",
       "      <td>Zhu_Rongji</td>\n",
       "      <td>Zhu_Rongji/Zhu_Rongji_0002.jpg</td>\n",
       "    </tr>\n",
       "    <tr>\n",
       "      <th>5738</th>\n",
       "      <td>Zhu_Rongji</td>\n",
       "      <td>Zhu_Rongji/Zhu_Rongji_0003.jpg</td>\n",
       "    </tr>\n",
       "    <tr>\n",
       "      <th>5738</th>\n",
       "      <td>Zhu_Rongji</td>\n",
       "      <td>Zhu_Rongji/Zhu_Rongji_0004.jpg</td>\n",
       "    </tr>\n",
       "    <tr>\n",
       "      <th>5738</th>\n",
       "      <td>Zhu_Rongji</td>\n",
       "      <td>Zhu_Rongji/Zhu_Rongji_0005.jpg</td>\n",
       "    </tr>\n",
       "    <tr>\n",
       "      <th>5738</th>\n",
       "      <td>Zhu_Rongji</td>\n",
       "      <td>Zhu_Rongji/Zhu_Rongji_0006.jpg</td>\n",
       "    </tr>\n",
       "    <tr>\n",
       "      <th>5738</th>\n",
       "      <td>Zhu_Rongji</td>\n",
       "      <td>Zhu_Rongji/Zhu_Rongji_0007.jpg</td>\n",
       "    </tr>\n",
       "    <tr>\n",
       "      <th>5738</th>\n",
       "      <td>Zhu_Rongji</td>\n",
       "      <td>Zhu_Rongji/Zhu_Rongji_0008.jpg</td>\n",
       "    </tr>\n",
       "    <tr>\n",
       "      <th>5738</th>\n",
       "      <td>Zhu_Rongji</td>\n",
       "      <td>Zhu_Rongji/Zhu_Rongji_0009.jpg</td>\n",
       "    </tr>\n",
       "  </tbody>\n",
       "</table>\n",
       "</div>"
      ],
      "text/plain": [
       "            name                      image_path\n",
       "5738  Zhu_Rongji  Zhu_Rongji/Zhu_Rongji_0001.jpg\n",
       "5738  Zhu_Rongji  Zhu_Rongji/Zhu_Rongji_0002.jpg\n",
       "5738  Zhu_Rongji  Zhu_Rongji/Zhu_Rongji_0003.jpg\n",
       "5738  Zhu_Rongji  Zhu_Rongji/Zhu_Rongji_0004.jpg\n",
       "5738  Zhu_Rongji  Zhu_Rongji/Zhu_Rongji_0005.jpg\n",
       "5738  Zhu_Rongji  Zhu_Rongji/Zhu_Rongji_0006.jpg\n",
       "5738  Zhu_Rongji  Zhu_Rongji/Zhu_Rongji_0007.jpg\n",
       "5738  Zhu_Rongji  Zhu_Rongji/Zhu_Rongji_0008.jpg\n",
       "5738  Zhu_Rongji  Zhu_Rongji/Zhu_Rongji_0009.jpg"
      ]
     },
     "execution_count": 32,
     "metadata": {},
     "output_type": "execute_result"
    }
   ],
   "source": [
    "image_paths.loc[image_paths['name'] == 'Zhu_Rongji']"
   ]
  },
  {
   "cell_type": "code",
   "execution_count": 33,
   "id": "1c41b285",
   "metadata": {},
   "outputs": [
    {
     "data": {
      "text/html": [
       "<div>\n",
       "<style scoped>\n",
       "    .dataframe tbody tr th:only-of-type {\n",
       "        vertical-align: middle;\n",
       "    }\n",
       "\n",
       "    .dataframe tbody tr th {\n",
       "        vertical-align: top;\n",
       "    }\n",
       "\n",
       "    .dataframe thead th {\n",
       "        text-align: right;\n",
       "    }\n",
       "</style>\n",
       "<table border=\"1\" class=\"dataframe\">\n",
       "  <thead>\n",
       "    <tr style=\"text-align: right;\">\n",
       "      <th></th>\n",
       "      <th>name</th>\n",
       "      <th>images</th>\n",
       "    </tr>\n",
       "  </thead>\n",
       "  <tbody>\n",
       "    <tr>\n",
       "      <th>5738</th>\n",
       "      <td>Zhu_Rongji</td>\n",
       "      <td>9</td>\n",
       "    </tr>\n",
       "  </tbody>\n",
       "</table>\n",
       "</div>"
      ],
      "text/plain": [
       "            name  images\n",
       "5738  Zhu_Rongji       9"
      ]
     },
     "execution_count": 33,
     "metadata": {},
     "output_type": "execute_result"
    }
   ],
   "source": [
    "lfw_allnames.loc[lfw_allnames['name'] == 'Zhu_Rongji']"
   ]
  },
  {
   "cell_type": "code",
   "execution_count": 34,
   "id": "0d1ba930",
   "metadata": {},
   "outputs": [
    {
     "data": {
      "text/html": [
       "<div>\n",
       "<style scoped>\n",
       "    .dataframe tbody tr th:only-of-type {\n",
       "        vertical-align: middle;\n",
       "    }\n",
       "\n",
       "    .dataframe tbody tr th {\n",
       "        vertical-align: top;\n",
       "    }\n",
       "\n",
       "    .dataframe thead th {\n",
       "        text-align: right;\n",
       "    }\n",
       "</style>\n",
       "<table border=\"1\" class=\"dataframe\">\n",
       "  <thead>\n",
       "    <tr style=\"text-align: right;\">\n",
       "      <th></th>\n",
       "      <th>name</th>\n",
       "      <th>images</th>\n",
       "    </tr>\n",
       "  </thead>\n",
       "  <tbody>\n",
       "    <tr>\n",
       "      <th>5738</th>\n",
       "      <td>Zhu_Rongji</td>\n",
       "      <td>9</td>\n",
       "    </tr>\n",
       "    <tr>\n",
       "      <th>5738</th>\n",
       "      <td>Zhu_Rongji</td>\n",
       "      <td>9</td>\n",
       "    </tr>\n",
       "    <tr>\n",
       "      <th>5738</th>\n",
       "      <td>Zhu_Rongji</td>\n",
       "      <td>9</td>\n",
       "    </tr>\n",
       "    <tr>\n",
       "      <th>5738</th>\n",
       "      <td>Zhu_Rongji</td>\n",
       "      <td>9</td>\n",
       "    </tr>\n",
       "    <tr>\n",
       "      <th>5738</th>\n",
       "      <td>Zhu_Rongji</td>\n",
       "      <td>9</td>\n",
       "    </tr>\n",
       "    <tr>\n",
       "      <th>5738</th>\n",
       "      <td>Zhu_Rongji</td>\n",
       "      <td>9</td>\n",
       "    </tr>\n",
       "    <tr>\n",
       "      <th>5738</th>\n",
       "      <td>Zhu_Rongji</td>\n",
       "      <td>9</td>\n",
       "    </tr>\n",
       "    <tr>\n",
       "      <th>5738</th>\n",
       "      <td>Zhu_Rongji</td>\n",
       "      <td>9</td>\n",
       "    </tr>\n",
       "    <tr>\n",
       "      <th>5738</th>\n",
       "      <td>Zhu_Rongji</td>\n",
       "      <td>9</td>\n",
       "    </tr>\n",
       "  </tbody>\n",
       "</table>\n",
       "</div>"
      ],
      "text/plain": [
       "            name  images\n",
       "5738  Zhu_Rongji       9\n",
       "5738  Zhu_Rongji       9\n",
       "5738  Zhu_Rongji       9\n",
       "5738  Zhu_Rongji       9\n",
       "5738  Zhu_Rongji       9\n",
       "5738  Zhu_Rongji       9\n",
       "5738  Zhu_Rongji       9\n",
       "5738  Zhu_Rongji       9\n",
       "5738  Zhu_Rongji       9"
      ]
     },
     "execution_count": 34,
     "metadata": {},
     "output_type": "execute_result"
    }
   ],
   "source": [
    "# Create new dataframe where each name is repeated for the number of images indicated for them.\n",
    "image_paths = lfw_allnames.loc[lfw_allnames.index.repeat(lfw_allnames['images'])]\n",
    "# E.g. Since Zhu_Rongji has 9 images, repeat it 9 times into image_paths df.\n",
    "image_paths.loc[image_paths['name'] == 'Zhu_Rongji']"
   ]
  },
  {
   "cell_type": "code",
   "execution_count": 35,
   "id": "daebf917",
   "metadata": {},
   "outputs": [
    {
     "data": {
      "text/plain": [
       "5738    0\n",
       "5738    1\n",
       "5738    2\n",
       "5738    3\n",
       "5738    4\n",
       "5738    5\n",
       "5738    6\n",
       "5738    7\n",
       "5738    8\n",
       "dtype: int64"
      ]
     },
     "execution_count": 35,
     "metadata": {},
     "output_type": "execute_result"
    }
   ],
   "source": [
    "# With repeated entries in image_paths, we can group them by 'name' column to each repeated entry to\n",
    "# increment their corresponding count up to the max per name, e.g. for Zhu_Rongji at index 5738:\n",
    "image_paths.groupby('name').cumcount()[5738]"
   ]
  },
  {
   "cell_type": "code",
   "execution_count": 36,
   "id": "564912df",
   "metadata": {},
   "outputs": [
    {
     "data": {
      "text/plain": [
       "5738    1\n",
       "5738    2\n",
       "5738    3\n",
       "5738    4\n",
       "5738    5\n",
       "5738    6\n",
       "5738    7\n",
       "5738    8\n",
       "5738    9\n",
       "Name: image_path, dtype: int64"
      ]
     },
     "execution_count": 36,
     "metadata": {},
     "output_type": "execute_result"
    }
   ],
   "source": [
    "# Since we want each image to be designated starting at 1, e.g.:\n",
    "#    Zhu_Rongji_0001.jpg\n",
    "#    Zhu_Rongji_0002.jpg\n",
    "#    ...\n",
    "#    Zhu_Rongji_0009.jpg\n",
    "# Then we can add 1 to each entry's 'image_path' column:\n",
    "image_paths['image_path'] = 1 + image_paths.groupby('name').cumcount()\n",
    "image_paths['image_path'][5738] # example entry"
   ]
  },
  {
   "cell_type": "code",
   "execution_count": 37,
   "id": "7215439a",
   "metadata": {},
   "outputs": [
    {
     "data": {
      "text/plain": [
       "5738    0001\n",
       "5738    0002\n",
       "5738    0003\n",
       "5738    0004\n",
       "5738    0005\n",
       "5738    0006\n",
       "5738    0007\n",
       "5738    0008\n",
       "5738    0009\n",
       "Name: image_path, dtype: object"
      ]
     },
     "execution_count": 37,
     "metadata": {},
     "output_type": "execute_result"
    }
   ],
   "source": [
    "# Pad zeroes into each of the image_path values.\n",
    "image_paths['image_path'] = image_paths.image_path.apply(lambda x: '{0:0>4}'.format(x))\n",
    "image_paths['image_path'][5738] # example entry"
   ]
  },
  {
   "cell_type": "code",
   "execution_count": 38,
   "id": "398df925",
   "metadata": {},
   "outputs": [
    {
     "data": {
      "text/plain": [
       "5738    Zhu_Rongji/Zhu_Rongji_0001.jpg\n",
       "5738    Zhu_Rongji/Zhu_Rongji_0002.jpg\n",
       "5738    Zhu_Rongji/Zhu_Rongji_0003.jpg\n",
       "5738    Zhu_Rongji/Zhu_Rongji_0004.jpg\n",
       "5738    Zhu_Rongji/Zhu_Rongji_0005.jpg\n",
       "5738    Zhu_Rongji/Zhu_Rongji_0006.jpg\n",
       "5738    Zhu_Rongji/Zhu_Rongji_0007.jpg\n",
       "5738    Zhu_Rongji/Zhu_Rongji_0008.jpg\n",
       "5738    Zhu_Rongji/Zhu_Rongji_0009.jpg\n",
       "Name: image_path, dtype: object"
      ]
     },
     "execution_count": 38,
     "metadata": {},
     "output_type": "execute_result"
    }
   ],
   "source": [
    "# Create the full relative path that can be used to lookup the actual images.\n",
    "# E.g. Zhu_Rongji => Zhu_Rongji/Zhu_Rongji_0001.jpg\n",
    "image_paths['image_path'] = image_paths.name + \"/\" + image_paths.name + \"_\" + image_paths.image_path + \".jpg\"\n",
    "image_paths['image_path'][5738] # example entry"
   ]
  },
  {
   "cell_type": "code",
   "execution_count": 39,
   "id": "5960e6a2",
   "metadata": {},
   "outputs": [
    {
     "data": {
      "text/html": [
       "<div>\n",
       "<style scoped>\n",
       "    .dataframe tbody tr th:only-of-type {\n",
       "        vertical-align: middle;\n",
       "    }\n",
       "\n",
       "    .dataframe tbody tr th {\n",
       "        vertical-align: top;\n",
       "    }\n",
       "\n",
       "    .dataframe thead th {\n",
       "        text-align: right;\n",
       "    }\n",
       "</style>\n",
       "<table border=\"1\" class=\"dataframe\">\n",
       "  <thead>\n",
       "    <tr style=\"text-align: right;\">\n",
       "      <th></th>\n",
       "      <th>name</th>\n",
       "      <th>images</th>\n",
       "      <th>image_path</th>\n",
       "    </tr>\n",
       "  </thead>\n",
       "  <tbody>\n",
       "    <tr>\n",
       "      <th>0</th>\n",
       "      <td>AJ_Cook</td>\n",
       "      <td>1</td>\n",
       "      <td>AJ_Cook/AJ_Cook_0001.jpg</td>\n",
       "    </tr>\n",
       "    <tr>\n",
       "      <th>1</th>\n",
       "      <td>AJ_Lamas</td>\n",
       "      <td>1</td>\n",
       "      <td>AJ_Lamas/AJ_Lamas_0001.jpg</td>\n",
       "    </tr>\n",
       "    <tr>\n",
       "      <th>2</th>\n",
       "      <td>Aaron_Eckhart</td>\n",
       "      <td>1</td>\n",
       "      <td>Aaron_Eckhart/Aaron_Eckhart_0001.jpg</td>\n",
       "    </tr>\n",
       "    <tr>\n",
       "      <th>3</th>\n",
       "      <td>Aaron_Guiel</td>\n",
       "      <td>1</td>\n",
       "      <td>Aaron_Guiel/Aaron_Guiel_0001.jpg</td>\n",
       "    </tr>\n",
       "    <tr>\n",
       "      <th>4</th>\n",
       "      <td>Aaron_Patterson</td>\n",
       "      <td>1</td>\n",
       "      <td>Aaron_Patterson/Aaron_Patterson_0001.jpg</td>\n",
       "    </tr>\n",
       "    <tr>\n",
       "      <th>...</th>\n",
       "      <td>...</td>\n",
       "      <td>...</td>\n",
       "      <td>...</td>\n",
       "    </tr>\n",
       "    <tr>\n",
       "      <th>5744</th>\n",
       "      <td>Zorica_Radovic</td>\n",
       "      <td>1</td>\n",
       "      <td>Zorica_Radovic/Zorica_Radovic_0001.jpg</td>\n",
       "    </tr>\n",
       "    <tr>\n",
       "      <th>5745</th>\n",
       "      <td>Zulfiqar_Ahmed</td>\n",
       "      <td>1</td>\n",
       "      <td>Zulfiqar_Ahmed/Zulfiqar_Ahmed_0001.jpg</td>\n",
       "    </tr>\n",
       "    <tr>\n",
       "      <th>5746</th>\n",
       "      <td>Zumrati_Juma</td>\n",
       "      <td>1</td>\n",
       "      <td>Zumrati_Juma/Zumrati_Juma_0001.jpg</td>\n",
       "    </tr>\n",
       "    <tr>\n",
       "      <th>5747</th>\n",
       "      <td>Zurab_Tsereteli</td>\n",
       "      <td>1</td>\n",
       "      <td>Zurab_Tsereteli/Zurab_Tsereteli_0001.jpg</td>\n",
       "    </tr>\n",
       "    <tr>\n",
       "      <th>5748</th>\n",
       "      <td>Zydrunas_Ilgauskas</td>\n",
       "      <td>1</td>\n",
       "      <td>Zydrunas_Ilgauskas/Zydrunas_Ilgauskas_0001.jpg</td>\n",
       "    </tr>\n",
       "  </tbody>\n",
       "</table>\n",
       "<p>13233 rows × 3 columns</p>\n",
       "</div>"
      ],
      "text/plain": [
       "                    name  images  \\\n",
       "0                AJ_Cook       1   \n",
       "1               AJ_Lamas       1   \n",
       "2          Aaron_Eckhart       1   \n",
       "3            Aaron_Guiel       1   \n",
       "4        Aaron_Patterson       1   \n",
       "...                  ...     ...   \n",
       "5744      Zorica_Radovic       1   \n",
       "5745      Zulfiqar_Ahmed       1   \n",
       "5746        Zumrati_Juma       1   \n",
       "5747     Zurab_Tsereteli       1   \n",
       "5748  Zydrunas_Ilgauskas       1   \n",
       "\n",
       "                                          image_path  \n",
       "0                           AJ_Cook/AJ_Cook_0001.jpg  \n",
       "1                         AJ_Lamas/AJ_Lamas_0001.jpg  \n",
       "2               Aaron_Eckhart/Aaron_Eckhart_0001.jpg  \n",
       "3                   Aaron_Guiel/Aaron_Guiel_0001.jpg  \n",
       "4           Aaron_Patterson/Aaron_Patterson_0001.jpg  \n",
       "...                                              ...  \n",
       "5744          Zorica_Radovic/Zorica_Radovic_0001.jpg  \n",
       "5745          Zulfiqar_Ahmed/Zulfiqar_Ahmed_0001.jpg  \n",
       "5746              Zumrati_Juma/Zumrati_Juma_0001.jpg  \n",
       "5747        Zurab_Tsereteli/Zurab_Tsereteli_0001.jpg  \n",
       "5748  Zydrunas_Ilgauskas/Zydrunas_Ilgauskas_0001.jpg  \n",
       "\n",
       "[13233 rows x 3 columns]"
      ]
     },
     "execution_count": 39,
     "metadata": {},
     "output_type": "execute_result"
    }
   ],
   "source": [
    "image_paths"
   ]
  },
  {
   "cell_type": "code",
   "execution_count": 40,
   "id": "be2633cf",
   "metadata": {},
   "outputs": [
    {
     "data": {
      "text/html": [
       "<div>\n",
       "<style scoped>\n",
       "    .dataframe tbody tr th:only-of-type {\n",
       "        vertical-align: middle;\n",
       "    }\n",
       "\n",
       "    .dataframe tbody tr th {\n",
       "        vertical-align: top;\n",
       "    }\n",
       "\n",
       "    .dataframe thead th {\n",
       "        text-align: right;\n",
       "    }\n",
       "</style>\n",
       "<table border=\"1\" class=\"dataframe\">\n",
       "  <thead>\n",
       "    <tr style=\"text-align: right;\">\n",
       "      <th></th>\n",
       "      <th>name</th>\n",
       "      <th>image_path</th>\n",
       "    </tr>\n",
       "  </thead>\n",
       "  <tbody>\n",
       "    <tr>\n",
       "      <th>0</th>\n",
       "      <td>AJ_Cook</td>\n",
       "      <td>AJ_Cook/AJ_Cook_0001.jpg</td>\n",
       "    </tr>\n",
       "    <tr>\n",
       "      <th>1</th>\n",
       "      <td>AJ_Lamas</td>\n",
       "      <td>AJ_Lamas/AJ_Lamas_0001.jpg</td>\n",
       "    </tr>\n",
       "    <tr>\n",
       "      <th>2</th>\n",
       "      <td>Aaron_Eckhart</td>\n",
       "      <td>Aaron_Eckhart/Aaron_Eckhart_0001.jpg</td>\n",
       "    </tr>\n",
       "    <tr>\n",
       "      <th>3</th>\n",
       "      <td>Aaron_Guiel</td>\n",
       "      <td>Aaron_Guiel/Aaron_Guiel_0001.jpg</td>\n",
       "    </tr>\n",
       "    <tr>\n",
       "      <th>4</th>\n",
       "      <td>Aaron_Patterson</td>\n",
       "      <td>Aaron_Patterson/Aaron_Patterson_0001.jpg</td>\n",
       "    </tr>\n",
       "    <tr>\n",
       "      <th>...</th>\n",
       "      <td>...</td>\n",
       "      <td>...</td>\n",
       "    </tr>\n",
       "    <tr>\n",
       "      <th>5744</th>\n",
       "      <td>Zorica_Radovic</td>\n",
       "      <td>Zorica_Radovic/Zorica_Radovic_0001.jpg</td>\n",
       "    </tr>\n",
       "    <tr>\n",
       "      <th>5745</th>\n",
       "      <td>Zulfiqar_Ahmed</td>\n",
       "      <td>Zulfiqar_Ahmed/Zulfiqar_Ahmed_0001.jpg</td>\n",
       "    </tr>\n",
       "    <tr>\n",
       "      <th>5746</th>\n",
       "      <td>Zumrati_Juma</td>\n",
       "      <td>Zumrati_Juma/Zumrati_Juma_0001.jpg</td>\n",
       "    </tr>\n",
       "    <tr>\n",
       "      <th>5747</th>\n",
       "      <td>Zurab_Tsereteli</td>\n",
       "      <td>Zurab_Tsereteli/Zurab_Tsereteli_0001.jpg</td>\n",
       "    </tr>\n",
       "    <tr>\n",
       "      <th>5748</th>\n",
       "      <td>Zydrunas_Ilgauskas</td>\n",
       "      <td>Zydrunas_Ilgauskas/Zydrunas_Ilgauskas_0001.jpg</td>\n",
       "    </tr>\n",
       "  </tbody>\n",
       "</table>\n",
       "<p>13233 rows × 2 columns</p>\n",
       "</div>"
      ],
      "text/plain": [
       "                    name                                      image_path\n",
       "0                AJ_Cook                        AJ_Cook/AJ_Cook_0001.jpg\n",
       "1               AJ_Lamas                      AJ_Lamas/AJ_Lamas_0001.jpg\n",
       "2          Aaron_Eckhart            Aaron_Eckhart/Aaron_Eckhart_0001.jpg\n",
       "3            Aaron_Guiel                Aaron_Guiel/Aaron_Guiel_0001.jpg\n",
       "4        Aaron_Patterson        Aaron_Patterson/Aaron_Patterson_0001.jpg\n",
       "...                  ...                                             ...\n",
       "5744      Zorica_Radovic          Zorica_Radovic/Zorica_Radovic_0001.jpg\n",
       "5745      Zulfiqar_Ahmed          Zulfiqar_Ahmed/Zulfiqar_Ahmed_0001.jpg\n",
       "5746        Zumrati_Juma              Zumrati_Juma/Zumrati_Juma_0001.jpg\n",
       "5747     Zurab_Tsereteli        Zurab_Tsereteli/Zurab_Tsereteli_0001.jpg\n",
       "5748  Zydrunas_Ilgauskas  Zydrunas_Ilgauskas/Zydrunas_Ilgauskas_0001.jpg\n",
       "\n",
       "[13233 rows x 2 columns]"
      ]
     },
     "execution_count": 40,
     "metadata": {},
     "output_type": "execute_result"
    }
   ],
   "source": [
    "image_paths = image_paths.drop(\"images\", axis=1)\n",
    "image_paths"
   ]
  },
  {
   "cell_type": "code",
   "execution_count": 41,
   "id": "88c18b8f",
   "metadata": {},
   "outputs": [],
   "source": [
    "# Partition the dataset into test and train datasets.\n",
    "lfw_train, lfw_test = train_test_split(image_paths, test_size=0.2)\n",
    "lfw_train = lfw_train.reset_index().drop('index', axis=1)\n",
    "lfw_test = lfw_test.reset_index().drop('index', axis=1)"
   ]
  },
  {
   "cell_type": "code",
   "execution_count": 42,
   "id": "2d17e711",
   "metadata": {},
   "outputs": [
    {
     "data": {
      "text/plain": [
       "(10586, 2)"
      ]
     },
     "execution_count": 42,
     "metadata": {},
     "output_type": "execute_result"
    }
   ],
   "source": [
    "lfw_train.shape"
   ]
  },
  {
   "cell_type": "code",
   "execution_count": 43,
   "id": "ae7665d9",
   "metadata": {},
   "outputs": [
    {
     "data": {
      "text/plain": [
       "(2647, 2)"
      ]
     },
     "execution_count": 43,
     "metadata": {},
     "output_type": "execute_result"
    }
   ],
   "source": [
    "lfw_test.shape"
   ]
  },
  {
   "cell_type": "code",
   "execution_count": 44,
   "id": "745e1ad2",
   "metadata": {},
   "outputs": [
    {
     "name": "stdout",
     "output_type": "stream",
     "text": [
      "840\n",
      "889\n"
     ]
    }
   ],
   "source": [
    "# Verify that there is a subset of names that are in both test and training datasets.\n",
    "print(len(set(lfw_train.name).intersection(set(lfw_test.name))))\n",
    "print(len(set(lfw_test.name) - set(lfw_train.name)))"
   ]
  },
  {
   "cell_type": "code",
   "execution_count": 45,
   "id": "3782110a",
   "metadata": {},
   "outputs": [
    {
     "data": {
      "text/plain": [
       "'../../data/Labelled-Faces-in-the-Wild-LFW/lfw-deepfunneled/'"
      ]
     },
     "execution_count": 45,
     "metadata": {},
     "output_type": "execute_result"
    }
   ],
   "source": [
    "basepath = dataset_path + 'lfw-deepfunneled/'\n",
    "basepath"
   ]
  },
  {
   "cell_type": "code",
   "execution_count": 46,
   "id": "a9e02dbf",
   "metadata": {},
   "outputs": [
    {
     "data": {
      "text/html": [
       "<div>\n",
       "<style scoped>\n",
       "    .dataframe tbody tr th:only-of-type {\n",
       "        vertical-align: middle;\n",
       "    }\n",
       "\n",
       "    .dataframe tbody tr th {\n",
       "        vertical-align: top;\n",
       "    }\n",
       "\n",
       "    .dataframe thead th {\n",
       "        text-align: right;\n",
       "    }\n",
       "</style>\n",
       "<table border=\"1\" class=\"dataframe\">\n",
       "  <thead>\n",
       "    <tr style=\"text-align: right;\">\n",
       "      <th></th>\n",
       "      <th>width</th>\n",
       "      <th>height</th>\n",
       "    </tr>\n",
       "  </thead>\n",
       "  <tbody>\n",
       "    <tr>\n",
       "      <th>count</th>\n",
       "      <td>13233.0</td>\n",
       "      <td>13233.0</td>\n",
       "    </tr>\n",
       "    <tr>\n",
       "      <th>mean</th>\n",
       "      <td>250.0</td>\n",
       "      <td>250.0</td>\n",
       "    </tr>\n",
       "    <tr>\n",
       "      <th>std</th>\n",
       "      <td>0.0</td>\n",
       "      <td>0.0</td>\n",
       "    </tr>\n",
       "    <tr>\n",
       "      <th>min</th>\n",
       "      <td>250.0</td>\n",
       "      <td>250.0</td>\n",
       "    </tr>\n",
       "    <tr>\n",
       "      <th>25%</th>\n",
       "      <td>250.0</td>\n",
       "      <td>250.0</td>\n",
       "    </tr>\n",
       "    <tr>\n",
       "      <th>50%</th>\n",
       "      <td>250.0</td>\n",
       "      <td>250.0</td>\n",
       "    </tr>\n",
       "    <tr>\n",
       "      <th>75%</th>\n",
       "      <td>250.0</td>\n",
       "      <td>250.0</td>\n",
       "    </tr>\n",
       "    <tr>\n",
       "      <th>max</th>\n",
       "      <td>250.0</td>\n",
       "      <td>250.0</td>\n",
       "    </tr>\n",
       "  </tbody>\n",
       "</table>\n",
       "</div>"
      ],
      "text/plain": [
       "         width   height\n",
       "count  13233.0  13233.0\n",
       "mean     250.0    250.0\n",
       "std        0.0      0.0\n",
       "min      250.0    250.0\n",
       "25%      250.0    250.0\n",
       "50%      250.0    250.0\n",
       "75%      250.0    250.0\n",
       "max      250.0    250.0"
      ]
     },
     "execution_count": 46,
     "metadata": {},
     "output_type": "execute_result"
    }
   ],
   "source": [
    "# Verify that each image has the correct resolution before processing further.\n",
    "widths = []\n",
    "heights = []\n",
    "files = image_paths.image_path\n",
    "for file in files:\n",
    "    path = basepath + str(file)\n",
    "    img = Image.open(path)\n",
    "    widths.append(img.width)\n",
    "    heights.append(img.height)\n",
    "\n",
    "# This should show that all images are 250x250\n",
    "pd.DataFrame({'width':widths, 'height':heights}).describe()"
   ]
  },
  {
   "cell_type": "markdown",
   "id": "d1b084cd",
   "metadata": {},
   "source": [
    "## Data Exploration"
   ]
  },
  {
   "cell_type": "code",
   "execution_count": 47,
   "id": "41a68938",
   "metadata": {},
   "outputs": [
    {
     "data": {
      "text/plain": [
       "George_W_Bush                530\n",
       "Colin_Powell                 236\n",
       "Tony_Blair                   144\n",
       "Donald_Rumsfeld              121\n",
       "Gerhard_Schroeder            109\n",
       "Ariel_Sharon                  77\n",
       "Hugo_Chavez                   71\n",
       "Junichiro_Koizumi             60\n",
       "Jean_Chretien                 55\n",
       "John_Ashcroft                 53\n",
       "Jacques_Chirac                52\n",
       "Serena_Williams               52\n",
       "Vladimir_Putin                49\n",
       "Luiz_Inacio_Lula_da_Silva     48\n",
       "Gloria_Macapagal_Arroyo       44\n",
       "Jennifer_Capriati             42\n",
       "Arnold_Schwarzenegger         42\n",
       "Laura_Bush                    41\n",
       "Lleyton_Hewitt                41\n",
       "Hans_Blix                     39\n",
       "Alejandro_Toledo              39\n",
       "Nestor_Kirchner               37\n",
       "Andre_Agassi                  36\n",
       "Alvaro_Uribe                  35\n",
       "Silvio_Berlusconi             33\n",
       "Tom_Ridge                     33\n",
       "Megawati_Sukarnoputri         33\n",
       "Vicente_Fox                   32\n",
       "Roh_Moo-hyun                  32\n",
       "Kofi_Annan                    32\n",
       "Name: name, dtype: int64"
      ]
     },
     "execution_count": 47,
     "metadata": {},
     "output_type": "execute_result"
    }
   ],
   "source": [
    "# Check the relative imbalance of images per person.\n",
    "image_paths['name'].value_counts()[:30]"
   ]
  },
  {
   "cell_type": "code",
   "execution_count": 48,
   "id": "6823f4a1",
   "metadata": {},
   "outputs": [
    {
     "data": {
      "text/plain": [
       "<AxesSubplot:>"
      ]
     },
     "execution_count": 48,
     "metadata": {},
     "output_type": "execute_result"
    },
    {
     "data": {
      "image/png": "[encoded data removed]",
      "text/plain": [
       "<Figure size 640x480 with 1 Axes>"
      ]
     },
     "metadata": {},
     "output_type": "display_data"
    }
   ],
   "source": [
    "# Plot the above.\n",
    "image_paths['name'].value_counts()[:30].plot(kind = 'bar')"
   ]
  },
  {
   "cell_type": "code",
   "execution_count": 49,
   "id": "075d855a",
   "metadata": {},
   "outputs": [
    {
     "name": "stdout",
     "output_type": "stream",
     "text": [
      "single_img_count: 4069\n",
      "total_img_count: 13233\n",
      "% of images with only 1 image per person: 30.75 %\n"
     ]
    }
   ],
   "source": [
    "# Determine how many entries have only 1 image per name.\n",
    "img_counts = image_paths.groupby('name').count().image_path\n",
    "single_img_count = sum(img_counts[img_counts == 1])\n",
    "total_img_count = sum(img_counts)\n",
    "print('single_img_count: {}'.format(single_img_count))\n",
    "print('total_img_count: {}'.format(total_img_count))\n",
    "print('% of images with only 1 image per person: {:.2f} %'.format(single_img_count / total_img_count * 100))"
   ]
  },
  {
   "cell_type": "code",
   "execution_count": 76,
   "id": "201a2e9a",
   "metadata": {},
   "outputs": [
    {
     "data": {
      "text/html": [
       "<div>\n",
       "<style scoped>\n",
       "    .dataframe tbody tr th:only-of-type {\n",
       "        vertical-align: middle;\n",
       "    }\n",
       "\n",
       "    .dataframe tbody tr th {\n",
       "        vertical-align: top;\n",
       "    }\n",
       "\n",
       "    .dataframe thead th {\n",
       "        text-align: right;\n",
       "    }\n",
       "</style>\n",
       "<table border=\"1\" class=\"dataframe\">\n",
       "  <thead>\n",
       "    <tr style=\"text-align: right;\">\n",
       "      <th></th>\n",
       "      <th>name</th>\n",
       "      <th>image_path</th>\n",
       "    </tr>\n",
       "  </thead>\n",
       "  <tbody>\n",
       "    <tr>\n",
       "      <th>33</th>\n",
       "      <td>George_W_Bush</td>\n",
       "      <td>George_W_Bush/George_W_Bush_0112.jpg</td>\n",
       "    </tr>\n",
       "    <tr>\n",
       "      <th>45</th>\n",
       "      <td>George_W_Bush</td>\n",
       "      <td>George_W_Bush/George_W_Bush_0086.jpg</td>\n",
       "    </tr>\n",
       "    <tr>\n",
       "      <th>86</th>\n",
       "      <td>George_W_Bush</td>\n",
       "      <td>George_W_Bush/George_W_Bush_0004.jpg</td>\n",
       "    </tr>\n",
       "    <tr>\n",
       "      <th>134</th>\n",
       "      <td>George_W_Bush</td>\n",
       "      <td>George_W_Bush/George_W_Bush_0083.jpg</td>\n",
       "    </tr>\n",
       "    <tr>\n",
       "      <th>159</th>\n",
       "      <td>George_W_Bush</td>\n",
       "      <td>George_W_Bush/George_W_Bush_0372.jpg</td>\n",
       "    </tr>\n",
       "    <tr>\n",
       "      <th>...</th>\n",
       "      <td>...</td>\n",
       "      <td>...</td>\n",
       "    </tr>\n",
       "    <tr>\n",
       "      <th>10508</th>\n",
       "      <td>George_W_Bush</td>\n",
       "      <td>George_W_Bush/George_W_Bush_0356.jpg</td>\n",
       "    </tr>\n",
       "    <tr>\n",
       "      <th>10517</th>\n",
       "      <td>George_W_Bush</td>\n",
       "      <td>George_W_Bush/George_W_Bush_0382.jpg</td>\n",
       "    </tr>\n",
       "    <tr>\n",
       "      <th>10575</th>\n",
       "      <td>George_W_Bush</td>\n",
       "      <td>George_W_Bush/George_W_Bush_0429.jpg</td>\n",
       "    </tr>\n",
       "    <tr>\n",
       "      <th>10577</th>\n",
       "      <td>George_W_Bush</td>\n",
       "      <td>George_W_Bush/George_W_Bush_0399.jpg</td>\n",
       "    </tr>\n",
       "    <tr>\n",
       "      <th>10583</th>\n",
       "      <td>George_W_Bush</td>\n",
       "      <td>George_W_Bush/George_W_Bush_0030.jpg</td>\n",
       "    </tr>\n",
       "  </tbody>\n",
       "</table>\n",
       "<p>433 rows × 2 columns</p>\n",
       "</div>"
      ],
      "text/plain": [
       "                name                            image_path\n",
       "33     George_W_Bush  George_W_Bush/George_W_Bush_0112.jpg\n",
       "45     George_W_Bush  George_W_Bush/George_W_Bush_0086.jpg\n",
       "86     George_W_Bush  George_W_Bush/George_W_Bush_0004.jpg\n",
       "134    George_W_Bush  George_W_Bush/George_W_Bush_0083.jpg\n",
       "159    George_W_Bush  George_W_Bush/George_W_Bush_0372.jpg\n",
       "...              ...                                   ...\n",
       "10508  George_W_Bush  George_W_Bush/George_W_Bush_0356.jpg\n",
       "10517  George_W_Bush  George_W_Bush/George_W_Bush_0382.jpg\n",
       "10575  George_W_Bush  George_W_Bush/George_W_Bush_0429.jpg\n",
       "10577  George_W_Bush  George_W_Bush/George_W_Bush_0399.jpg\n",
       "10583  George_W_Bush  George_W_Bush/George_W_Bush_0030.jpg\n",
       "\n",
       "[433 rows x 2 columns]"
      ]
     },
     "execution_count": 76,
     "metadata": {},
     "output_type": "execute_result"
    }
   ],
   "source": [
    "lfw_train.loc[lfw_train['name'] == 'George_W_Bush']"
   ]
  },
  {
   "cell_type": "code",
   "execution_count": 77,
   "id": "83a82be1",
   "metadata": {},
   "outputs": [
    {
     "data": {
      "text/plain": [
       "<matplotlib.image.AxesImage at 0x7fd2ac1cdd60>"
      ]
     },
     "execution_count": 77,
     "metadata": {},
     "output_type": "execute_result"
    },
    {
     "data": {
      "image/png": "[encoded data removed]",
      "text/plain": [
       "<Figure size 640x480 with 1 Axes>"
      ]
     },
     "metadata": {},
     "output_type": "display_data"
    }
   ],
   "source": [
    "# Show a sample image to verify it.\n",
    "img = Image.open(basepath + str(lfw_train.image_path[45]))\n",
    "plt.imshow(img)"
   ]
  },
  {
   "cell_type": "code",
   "execution_count": 80,
   "id": "6372eccd",
   "metadata": {},
   "outputs": [
    {
     "name": "stdout",
     "output_type": "stream",
     "text": [
      "1/1 [==============================] - 0s 79ms/step\n",
      "1/1 [==============================] - 0s 79ms/step\n",
      "1/1 [==============================] - 0s 21ms/step\n",
      "1/1 [==============================] - 0s 20ms/step\n",
      "1/1 [==============================] - 0s 22ms/step\n",
      "1/1 [==============================] - 0s 17ms/step\n",
      "1/1 [==============================] - 0s 18ms/step\n",
      "1/1 [==============================] - 0s 16ms/step\n",
      "1/1 [==============================] - 0s 88ms/step\n",
      "1/1 [==============================] - 0s 113ms/step\n"
     ]
    }
   ],
   "source": [
    "# Test a sample image above with out-of-the-box standard MTCNN algorithm to\n",
    "# identify the face bounding box and the face distinct features (eyes, nose, mouth).\n",
    "detector = MTCNN()\n",
    "img = cv2.imread(basepath + str(lfw_train.image_path[45]))\n",
    "result = detector.detect_faces(img)\n",
    "bounding_box = result[0]['box']\n",
    "keypoints = result[0]['keypoints']"
   ]
  },
  {
   "cell_type": "code",
   "execution_count": 81,
   "id": "66954044",
   "metadata": {},
   "outputs": [
    {
     "data": {
      "image/png": "[encoded data removed]",
      "text/plain": [
       "<Figure size 640x480 with 1 Axes>"
      ]
     },
     "metadata": {},
     "output_type": "display_data"
    }
   ],
   "source": [
    "# Plot the image along with the detected bounding box and keypoints.\n",
    "\n",
    "fig, ax = plt.subplots()\n",
    "ax.imshow(img)\n",
    "\n",
    "# Superimpose the bounding box.\n",
    "bbox = patches.Rectangle(bounding_box[0:2], bounding_box[2], bounding_box[3],\n",
    "                        linewidth=1, edgecolor='r', facecolor='none')\n",
    "ax.add_patch(bbox)\n",
    "\n",
    "# Superimpose the keypoints.\n",
    "for key in keypoints:\n",
    "    kp = patches.Rectangle(keypoints[key], 1, 1,\n",
    "                          linewidth=10, edgecolor='r', facecolor='none')\n",
    "    ax.add_patch(kp)\n",
    "\n",
    "plt.show()"
   ]
  },
  {
   "cell_type": "markdown",
   "id": "7bbbda06",
   "metadata": {},
   "source": [
    "## Preliminary approach to classifying faces - George_W_Bush training"
   ]
  },
  {
   "cell_type": "code",
   "execution_count": 82,
   "id": "dab1e890",
   "metadata": {},
   "outputs": [
    {
     "data": {
      "text/html": [
       "<div>\n",
       "<style scoped>\n",
       "    .dataframe tbody tr th:only-of-type {\n",
       "        vertical-align: middle;\n",
       "    }\n",
       "\n",
       "    .dataframe tbody tr th {\n",
       "        vertical-align: top;\n",
       "    }\n",
       "\n",
       "    .dataframe thead th {\n",
       "        text-align: right;\n",
       "    }\n",
       "</style>\n",
       "<table border=\"1\" class=\"dataframe\">\n",
       "  <thead>\n",
       "    <tr style=\"text-align: right;\">\n",
       "      <th></th>\n",
       "      <th>name</th>\n",
       "      <th>image_path</th>\n",
       "    </tr>\n",
       "  </thead>\n",
       "  <tbody>\n",
       "    <tr>\n",
       "      <th>1404</th>\n",
       "      <td>Donald_Rumsfeld</td>\n",
       "      <td>Donald_Rumsfeld/Donald_Rumsfeld_0077.jpg</td>\n",
       "    </tr>\n",
       "    <tr>\n",
       "      <th>3545</th>\n",
       "      <td>Mark_Cuban</td>\n",
       "      <td>Mark_Cuban/Mark_Cuban_0002.jpg</td>\n",
       "    </tr>\n",
       "    <tr>\n",
       "      <th>4344</th>\n",
       "      <td>Peter_Fitzgerald</td>\n",
       "      <td>Peter_Fitzgerald/Peter_Fitzgerald_0001.jpg</td>\n",
       "    </tr>\n",
       "    <tr>\n",
       "      <th>1047</th>\n",
       "      <td>Colin_Powell</td>\n",
       "      <td>Colin_Powell/Colin_Powell_0054.jpg</td>\n",
       "    </tr>\n",
       "    <tr>\n",
       "      <th>843</th>\n",
       "      <td>Celine_Dion</td>\n",
       "      <td>Celine_Dion/Celine_Dion_0001.jpg</td>\n",
       "    </tr>\n",
       "    <tr>\n",
       "      <th>...</th>\n",
       "      <td>...</td>\n",
       "      <td>...</td>\n",
       "    </tr>\n",
       "    <tr>\n",
       "      <th>2556</th>\n",
       "      <td>Jesse_Jackson</td>\n",
       "      <td>Jesse_Jackson/Jesse_Jackson_0006.jpg</td>\n",
       "    </tr>\n",
       "    <tr>\n",
       "      <th>695</th>\n",
       "      <td>Brian_Pavlich</td>\n",
       "      <td>Brian_Pavlich/Brian_Pavlich_0001.jpg</td>\n",
       "    </tr>\n",
       "    <tr>\n",
       "      <th>2521</th>\n",
       "      <td>Jennifer_Rodriguez</td>\n",
       "      <td>Jennifer_Rodriguez/Jennifer_Rodriguez_0002.jpg</td>\n",
       "    </tr>\n",
       "    <tr>\n",
       "      <th>3962</th>\n",
       "      <td>Monica_Seles</td>\n",
       "      <td>Monica_Seles/Monica_Seles_0002.jpg</td>\n",
       "    </tr>\n",
       "    <tr>\n",
       "      <th>493</th>\n",
       "      <td>Benjamin_Martinez</td>\n",
       "      <td>Benjamin_Martinez/Benjamin_Martinez_0001.jpg</td>\n",
       "    </tr>\n",
       "  </tbody>\n",
       "</table>\n",
       "<p>530 rows × 2 columns</p>\n",
       "</div>"
      ],
      "text/plain": [
       "                    name                                      image_path\n",
       "1404     Donald_Rumsfeld        Donald_Rumsfeld/Donald_Rumsfeld_0077.jpg\n",
       "3545          Mark_Cuban                  Mark_Cuban/Mark_Cuban_0002.jpg\n",
       "4344    Peter_Fitzgerald      Peter_Fitzgerald/Peter_Fitzgerald_0001.jpg\n",
       "1047        Colin_Powell              Colin_Powell/Colin_Powell_0054.jpg\n",
       "843          Celine_Dion                Celine_Dion/Celine_Dion_0001.jpg\n",
       "...                  ...                                             ...\n",
       "2556       Jesse_Jackson            Jesse_Jackson/Jesse_Jackson_0006.jpg\n",
       "695        Brian_Pavlich            Brian_Pavlich/Brian_Pavlich_0001.jpg\n",
       "2521  Jennifer_Rodriguez  Jennifer_Rodriguez/Jennifer_Rodriguez_0002.jpg\n",
       "3962        Monica_Seles              Monica_Seles/Monica_Seles_0002.jpg\n",
       "493    Benjamin_Martinez    Benjamin_Martinez/Benjamin_Martinez_0001.jpg\n",
       "\n",
       "[530 rows x 2 columns]"
      ]
     },
     "execution_count": 82,
     "metadata": {},
     "output_type": "execute_result"
    }
   ],
   "source": [
    "# Get a sample of records that are not George_W_Bush.\n",
    "not_gw_bush = image_paths[image_paths.name!='George_W_Bush'].sample(530)\n",
    "not_gw_bush"
   ]
  },
  {
   "cell_type": "code",
   "execution_count": 83,
   "id": "31816eb0",
   "metadata": {},
   "outputs": [
    {
     "data": {
      "text/html": [
       "<div>\n",
       "<style scoped>\n",
       "    .dataframe tbody tr th:only-of-type {\n",
       "        vertical-align: middle;\n",
       "    }\n",
       "\n",
       "    .dataframe tbody tr th {\n",
       "        vertical-align: top;\n",
       "    }\n",
       "\n",
       "    .dataframe thead th {\n",
       "        text-align: right;\n",
       "    }\n",
       "</style>\n",
       "<table border=\"1\" class=\"dataframe\">\n",
       "  <thead>\n",
       "    <tr style=\"text-align: right;\">\n",
       "      <th></th>\n",
       "      <th>name</th>\n",
       "      <th>image_path</th>\n",
       "    </tr>\n",
       "  </thead>\n",
       "  <tbody>\n",
       "    <tr>\n",
       "      <th>1404</th>\n",
       "      <td>not_George</td>\n",
       "      <td>Donald_Rumsfeld/Donald_Rumsfeld_0077.jpg</td>\n",
       "    </tr>\n",
       "    <tr>\n",
       "      <th>3545</th>\n",
       "      <td>not_George</td>\n",
       "      <td>Mark_Cuban/Mark_Cuban_0002.jpg</td>\n",
       "    </tr>\n",
       "    <tr>\n",
       "      <th>4344</th>\n",
       "      <td>not_George</td>\n",
       "      <td>Peter_Fitzgerald/Peter_Fitzgerald_0001.jpg</td>\n",
       "    </tr>\n",
       "    <tr>\n",
       "      <th>1047</th>\n",
       "      <td>not_George</td>\n",
       "      <td>Colin_Powell/Colin_Powell_0054.jpg</td>\n",
       "    </tr>\n",
       "    <tr>\n",
       "      <th>843</th>\n",
       "      <td>not_George</td>\n",
       "      <td>Celine_Dion/Celine_Dion_0001.jpg</td>\n",
       "    </tr>\n",
       "    <tr>\n",
       "      <th>...</th>\n",
       "      <td>...</td>\n",
       "      <td>...</td>\n",
       "    </tr>\n",
       "    <tr>\n",
       "      <th>2556</th>\n",
       "      <td>not_George</td>\n",
       "      <td>Jesse_Jackson/Jesse_Jackson_0006.jpg</td>\n",
       "    </tr>\n",
       "    <tr>\n",
       "      <th>695</th>\n",
       "      <td>not_George</td>\n",
       "      <td>Brian_Pavlich/Brian_Pavlich_0001.jpg</td>\n",
       "    </tr>\n",
       "    <tr>\n",
       "      <th>2521</th>\n",
       "      <td>not_George</td>\n",
       "      <td>Jennifer_Rodriguez/Jennifer_Rodriguez_0002.jpg</td>\n",
       "    </tr>\n",
       "    <tr>\n",
       "      <th>3962</th>\n",
       "      <td>not_George</td>\n",
       "      <td>Monica_Seles/Monica_Seles_0002.jpg</td>\n",
       "    </tr>\n",
       "    <tr>\n",
       "      <th>493</th>\n",
       "      <td>not_George</td>\n",
       "      <td>Benjamin_Martinez/Benjamin_Martinez_0001.jpg</td>\n",
       "    </tr>\n",
       "  </tbody>\n",
       "</table>\n",
       "<p>530 rows × 2 columns</p>\n",
       "</div>"
      ],
      "text/plain": [
       "            name                                      image_path\n",
       "1404  not_George        Donald_Rumsfeld/Donald_Rumsfeld_0077.jpg\n",
       "3545  not_George                  Mark_Cuban/Mark_Cuban_0002.jpg\n",
       "4344  not_George      Peter_Fitzgerald/Peter_Fitzgerald_0001.jpg\n",
       "1047  not_George              Colin_Powell/Colin_Powell_0054.jpg\n",
       "843   not_George                Celine_Dion/Celine_Dion_0001.jpg\n",
       "...          ...                                             ...\n",
       "2556  not_George            Jesse_Jackson/Jesse_Jackson_0006.jpg\n",
       "695   not_George            Brian_Pavlich/Brian_Pavlich_0001.jpg\n",
       "2521  not_George  Jennifer_Rodriguez/Jennifer_Rodriguez_0002.jpg\n",
       "3962  not_George              Monica_Seles/Monica_Seles_0002.jpg\n",
       "493   not_George    Benjamin_Martinez/Benjamin_Martinez_0001.jpg\n",
       "\n",
       "[530 rows x 2 columns]"
      ]
     },
     "execution_count": 83,
     "metadata": {},
     "output_type": "execute_result"
    }
   ],
   "source": [
    "# Replace the true name for each of those entries generically as 'not_George'\n",
    "not_gw_bush.name = 'not_George'\n",
    "not_gw_bush"
   ]
  },
  {
   "cell_type": "code",
   "execution_count": 84,
   "id": "0343e51e",
   "metadata": {},
   "outputs": [
    {
     "data": {
      "text/html": [
       "<div>\n",
       "<style scoped>\n",
       "    .dataframe tbody tr th:only-of-type {\n",
       "        vertical-align: middle;\n",
       "    }\n",
       "\n",
       "    .dataframe tbody tr th {\n",
       "        vertical-align: top;\n",
       "    }\n",
       "\n",
       "    .dataframe thead th {\n",
       "        text-align: right;\n",
       "    }\n",
       "</style>\n",
       "<table border=\"1\" class=\"dataframe\">\n",
       "  <thead>\n",
       "    <tr style=\"text-align: right;\">\n",
       "      <th></th>\n",
       "      <th>name</th>\n",
       "      <th>image_path</th>\n",
       "    </tr>\n",
       "  </thead>\n",
       "  <tbody>\n",
       "    <tr>\n",
       "      <th>1871</th>\n",
       "      <td>George_W_Bush</td>\n",
       "      <td>George_W_Bush/George_W_Bush_0001.jpg</td>\n",
       "    </tr>\n",
       "    <tr>\n",
       "      <th>1871</th>\n",
       "      <td>George_W_Bush</td>\n",
       "      <td>George_W_Bush/George_W_Bush_0002.jpg</td>\n",
       "    </tr>\n",
       "    <tr>\n",
       "      <th>1871</th>\n",
       "      <td>George_W_Bush</td>\n",
       "      <td>George_W_Bush/George_W_Bush_0003.jpg</td>\n",
       "    </tr>\n",
       "    <tr>\n",
       "      <th>1871</th>\n",
       "      <td>George_W_Bush</td>\n",
       "      <td>George_W_Bush/George_W_Bush_0004.jpg</td>\n",
       "    </tr>\n",
       "    <tr>\n",
       "      <th>1871</th>\n",
       "      <td>George_W_Bush</td>\n",
       "      <td>George_W_Bush/George_W_Bush_0005.jpg</td>\n",
       "    </tr>\n",
       "    <tr>\n",
       "      <th>...</th>\n",
       "      <td>...</td>\n",
       "      <td>...</td>\n",
       "    </tr>\n",
       "    <tr>\n",
       "      <th>2556</th>\n",
       "      <td>not_George</td>\n",
       "      <td>Jesse_Jackson/Jesse_Jackson_0006.jpg</td>\n",
       "    </tr>\n",
       "    <tr>\n",
       "      <th>695</th>\n",
       "      <td>not_George</td>\n",
       "      <td>Brian_Pavlich/Brian_Pavlich_0001.jpg</td>\n",
       "    </tr>\n",
       "    <tr>\n",
       "      <th>2521</th>\n",
       "      <td>not_George</td>\n",
       "      <td>Jennifer_Rodriguez/Jennifer_Rodriguez_0002.jpg</td>\n",
       "    </tr>\n",
       "    <tr>\n",
       "      <th>3962</th>\n",
       "      <td>not_George</td>\n",
       "      <td>Monica_Seles/Monica_Seles_0002.jpg</td>\n",
       "    </tr>\n",
       "    <tr>\n",
       "      <th>493</th>\n",
       "      <td>not_George</td>\n",
       "      <td>Benjamin_Martinez/Benjamin_Martinez_0001.jpg</td>\n",
       "    </tr>\n",
       "  </tbody>\n",
       "</table>\n",
       "<p>1060 rows × 2 columns</p>\n",
       "</div>"
      ],
      "text/plain": [
       "               name                                      image_path\n",
       "1871  George_W_Bush            George_W_Bush/George_W_Bush_0001.jpg\n",
       "1871  George_W_Bush            George_W_Bush/George_W_Bush_0002.jpg\n",
       "1871  George_W_Bush            George_W_Bush/George_W_Bush_0003.jpg\n",
       "1871  George_W_Bush            George_W_Bush/George_W_Bush_0004.jpg\n",
       "1871  George_W_Bush            George_W_Bush/George_W_Bush_0005.jpg\n",
       "...             ...                                             ...\n",
       "2556     not_George            Jesse_Jackson/Jesse_Jackson_0006.jpg\n",
       "695      not_George            Brian_Pavlich/Brian_Pavlich_0001.jpg\n",
       "2521     not_George  Jennifer_Rodriguez/Jennifer_Rodriguez_0002.jpg\n",
       "3962     not_George              Monica_Seles/Monica_Seles_0002.jpg\n",
       "493      not_George    Benjamin_Martinez/Benjamin_Martinez_0001.jpg\n",
       "\n",
       "[1060 rows x 2 columns]"
      ]
     },
     "execution_count": 84,
     "metadata": {},
     "output_type": "execute_result"
    }
   ],
   "source": [
    "# Based on the 530 samples collected, collect the dataset that consists of George_W_Bush and not_George. \n",
    "gwb_data = pd.concat([image_paths[image_paths.name==\"George_W_Bush\"], not_gw_bush])\n",
    "gwb_data"
   ]
  },
  {
   "cell_type": "code",
   "execution_count": 85,
   "id": "49c96541",
   "metadata": {},
   "outputs": [
    {
     "data": {
      "text/plain": [
       "13233"
      ]
     },
     "execution_count": 85,
     "metadata": {},
     "output_type": "execute_result"
    }
   ],
   "source": [
    "len(image_paths)"
   ]
  },
  {
   "cell_type": "code",
   "execution_count": 86,
   "id": "a55577a9",
   "metadata": {},
   "outputs": [
    {
     "name": "stdout",
     "output_type": "stream",
     "text": [
      "Train: (678, 2), Val: (170, 2), Test: (212, 2)\n"
     ]
    }
   ],
   "source": [
    "# Split gwb_data dataset into test, train and validation datasets.\n",
    "gwb_train, gwb_test = train_test_split(gwb_data, test_size=0.2)\n",
    "gwb_train, gwb_val = train_test_split(gwb_train, test_size=0.2)\n",
    "print('Train: {}, Val: {}, Test: {}'.format(gwb_train.shape, gwb_val.shape, gwb_test.shape))"
   ]
  },
  {
   "cell_type": "code",
   "execution_count": 87,
   "id": "74f72c50",
   "metadata": {},
   "outputs": [],
   "source": [
    "from keras.models import Sequential\n",
    "from keras.layers import Conv2D\n",
    "from keras.layers import MaxPooling2D\n",
    "from keras.layers import Flatten\n",
    "from keras.layers import Dense"
   ]
  },
  {
   "cell_type": "code",
   "execution_count": 88,
   "id": "cb9e7a6e",
   "metadata": {},
   "outputs": [],
   "source": [
    "gwb_classifier = Sequential()\n",
    "\n",
    "# use a 2x2 kernel for convolution, input is 250x250x3 with 3-channel because color image\n",
    "gwb_classifier.add(Conv2D(32, (3, 3), input_shape = (250, 250, 3), activation = 'relu'))\n",
    "\n",
    "# pooling to reduce dimension of convolution layers output\n",
    "gwb_classifier.add(MaxPooling2D(pool_size = (2, 2)))\n",
    "\n",
    "gwb_classifier.add(Flatten())\n",
    "\n",
    "# feed flattened output into a fully-connected layer\n",
    "gwb_classifier.add(Dense(units = 128, activation = 'relu'))\n",
    "\n",
    "# final output classifies as either 'Bush' or 'non-Bush'\n",
    "gwb_classifier.add(Dense(units = 1, activation = 'sigmoid'))\n",
    "\n",
    "# compile the model\n",
    "gwb_classifier.compile(optimizer = 'adam', loss = 'binary_crossentropy', metrics = ['accuracy'])"
   ]
  },
  {
   "cell_type": "markdown",
   "id": "a64c7315",
   "metadata": {},
   "source": [
    "### Prep the images before running the model."
   ]
  },
  {
   "cell_type": "code",
   "execution_count": 93,
   "id": "704a7800",
   "metadata": {},
   "outputs": [],
   "source": [
    "dest_dir = '../../data/working/'\n",
    "\n",
    "def directory_copier(data, dir_name):\n",
    "    count = 0\n",
    "    for image in data.image_path:\n",
    "        # create top directory\n",
    "        if not os.path.exists(os.path.join(dest_dir, dir_name)):\n",
    "            shutil.os.mkdir(os.path.join(dest_dir, dir_name))\n",
    "        \n",
    "        data_type = data[data['image_path'] == image]['name']\n",
    "        data_type = str(list(data_type)[0])\n",
    "        if not os.path.exists(os.path.join(dest_dir, dir_name, data_type)):\n",
    "            shutil.os.mkdir(os.path.join(dest_dir, dir_name, data_type))\n",
    "        path_from = os.path.join(basepath, image)\n",
    "        path_to = os.path.join(dest_dir, dir_name, data_type)\n",
    "        # print(path_to)\n",
    "        shutil.copy(path_from, path_to)\n",
    "        # print('Moved {} to {}'.format(image,path_to))\n",
    "        count += 1\n",
    "        \n",
    "    print('Copied {} images to {} folder.'.format(count, dir_name))"
   ]
  },
  {
   "cell_type": "code",
   "execution_count": 94,
   "id": "876b25cd",
   "metadata": {},
   "outputs": [
    {
     "name": "stdout",
     "output_type": "stream",
     "text": [
      "Copied 678 images to gwb_train/ folder.\n"
     ]
    }
   ],
   "source": [
    "directory_copier(gwb_train, 'gwb_train/')"
   ]
  },
  {
   "cell_type": "code",
   "execution_count": 95,
   "id": "83d6ed5e",
   "metadata": {},
   "outputs": [
    {
     "name": "stdout",
     "output_type": "stream",
     "text": [
      "Copied 170 images to gwb_val/ folder.\n"
     ]
    }
   ],
   "source": [
    "directory_copier(gwb_val, 'gwb_val/')"
   ]
  },
  {
   "cell_type": "code",
   "execution_count": 96,
   "id": "d8b00ee7",
   "metadata": {},
   "outputs": [
    {
     "name": "stdout",
     "output_type": "stream",
     "text": [
      "Copied 212 images to gwb_test/ folder.\n"
     ]
    }
   ],
   "source": [
    "directory_copier(gwb_test, 'gwb_test/')"
   ]
  },
  {
   "cell_type": "markdown",
   "id": "f7c6c934",
   "metadata": {},
   "source": [
    "### Train the model"
   ]
  },
  {
   "cell_type": "code",
   "execution_count": 97,
   "id": "88e3fa59",
   "metadata": {},
   "outputs": [
    {
     "name": "stdout",
     "output_type": "stream",
     "text": [
      "Found 678 images belonging to 2 classes.\n",
      "Found 170 images belonging to 2 classes.\n",
      "Found 212 images belonging to 2 classes.\n"
     ]
    }
   ],
   "source": [
    "train_datagen = keras.preprocessing.image.ImageDataGenerator(rescale = 1./255,\n",
    "                                                             shear_range = 0.2,\n",
    "                                                             zoom_range = 0.2,\n",
    "                                                             horizontal_flip = True)\n",
    "\n",
    "test_datagen = keras.preprocessing.image.ImageDataGenerator(rescale = 1./255)\n",
    "\n",
    "basedir = dest_dir\n",
    "\n",
    "gwb_training_set = train_datagen.flow_from_directory(basedir + 'gwb_train/',\n",
    "                                                     target_size = (250, 250),\n",
    "                                                     batch_size = 32,\n",
    "                                                     class_mode = 'binary')\n",
    "\n",
    "gwb_val_set = test_datagen.flow_from_directory(basedir + 'gwb_val/',\n",
    "                                               target_size = (250, 250),\n",
    "                                               batch_size = 32,\n",
    "                                               class_mode = 'binary')\n",
    "\n",
    "gwb_test_set = test_datagen.flow_from_directory(basedir + 'gwb_test/',\n",
    "                                                target_size = (250, 250),\n",
    "                                                batch_size = 32,\n",
    "                                                class_mode = 'binary')"
   ]
  },
  {
   "cell_type": "code",
   "execution_count": 115,
   "id": "43b7e76d",
   "metadata": {},
   "outputs": [
    {
     "data": {
      "text/plain": [
       "42"
      ]
     },
     "execution_count": 115,
     "metadata": {},
     "output_type": "execute_result"
    }
   ],
   "source": [
    "steps_per_epoch = len(gwb_train)//16\n",
    "steps_per_epoch"
   ]
  },
  {
   "cell_type": "code",
   "execution_count": 135,
   "id": "83ffb326",
   "metadata": {},
   "outputs": [
    {
     "name": "stdout",
     "output_type": "stream",
     "text": [
      "steps_per_epoch: 21\n",
      "Epoch 1/8\n",
      "21/21 [==============================] - ETA: 0s - loss: 0.0663 - accuracy: 0.9737WARNING:tensorflow:Your input ran out of data; interrupting training. Make sure that your dataset or generator can generate at least `steps_per_epoch * epochs` batches (in this case, 100 batches). You may need to use the repeat() function when building your dataset.\n",
      "21/21 [==============================] - 14s 651ms/step - loss: 0.0663 - accuracy: 0.9737 - val_loss: 0.2189 - val_accuracy: 0.9412\n",
      "Epoch 2/8\n",
      "21/21 [==============================] - 12s 555ms/step - loss: 0.0661 - accuracy: 0.9737\n",
      "Epoch 3/8\n",
      "21/21 [==============================] - 13s 604ms/step - loss: 0.0704 - accuracy: 0.9783\n",
      "Epoch 4/8\n",
      "21/21 [==============================] - 13s 592ms/step - loss: 0.0763 - accuracy: 0.9721\n",
      "Epoch 5/8\n",
      "21/21 [==============================] - 13s 588ms/step - loss: 0.1324 - accuracy: 0.9551\n",
      "Epoch 6/8\n",
      "21/21 [==============================] - 13s 627ms/step - loss: 0.1038 - accuracy: 0.9598\n",
      "Epoch 7/8\n",
      "21/21 [==============================] - 15s 703ms/step - loss: 0.0928 - accuracy: 0.9690\n",
      "Epoch 8/8\n",
      "21/21 [==============================] - 14s 658ms/step - loss: 0.0621 - accuracy: 0.9768\n"
     ]
    }
   ],
   "source": [
    "batch_size = 32\n",
    "steps_per_epoch = len(gwb_train) // batch_size\n",
    "# Set steps per epoch to the number of training images (678).\n",
    "#steps_per_epoch=678\n",
    "print('steps_per_epoch: {}'.format(steps_per_epoch))\n",
    "\n",
    "gwb_history = gwb_classifier.fit(gwb_training_set,\n",
    "                                 steps_per_epoch=steps_per_epoch,\n",
    "                                 epochs=8,\n",
    "                                 validation_data=gwb_val_set,\n",
    "                                 validation_steps=100)"
   ]
  },
  {
   "cell_type": "code",
   "execution_count": 136,
   "id": "abe34709",
   "metadata": {},
   "outputs": [
    {
     "data": {
      "image/png": "[encoded data removed]",
      "text/plain": [
       "<Figure size 640x480 with 1 Axes>"
      ]
     },
     "metadata": {},
     "output_type": "display_data"
    },
    {
     "data": {
      "image/png": "[encoded data removed]",
      "text/plain": [
       "<Figure size 640x480 with 1 Axes>"
      ]
     },
     "metadata": {},
     "output_type": "display_data"
    }
   ],
   "source": [
    "plt.plot(gwb_history.history['accuracy'])\n",
    "plt.plot(gwb_history.history['val_accuracy'])\n",
    "plt.title('model accuracy')\n",
    "plt.ylabel('accuracy')\n",
    "plt.xlabel('epoch')\n",
    "plt.legend(['train', 'val'], loc='upper left')\n",
    "plt.show()\n",
    "\n",
    "plt.plot(gwb_history.history['loss'])\n",
    "plt.plot(gwb_history.history['val_loss'])\n",
    "plt.title('model loss')\n",
    "plt.ylabel('loss')\n",
    "plt.xlabel('epoch')\n",
    "plt.legend(['train', 'val'], loc='upper left')\n",
    "plt.show()"
   ]
  },
  {
   "cell_type": "code",
   "execution_count": null,
   "id": "155ed1f9",
   "metadata": {},
   "outputs": [],
   "source": []
  }
 ],
 "metadata": {
  "kernelspec": {
   "display_name": "Python 3",
   "language": "python",
   "name": "python3"
  },
  "language_info": {
   "codemirror_mode": {
    "name": "ipython",
    "version": 3
   },
   "file_extension": ".py",
   "mimetype": "text/x-python",
   "name": "python",
   "nbconvert_exporter": "python",
   "pygments_lexer": "ipython3",
   "version": "3.9.12"
  }
 },
 "nbformat": 4,
 "nbformat_minor": 5
}
